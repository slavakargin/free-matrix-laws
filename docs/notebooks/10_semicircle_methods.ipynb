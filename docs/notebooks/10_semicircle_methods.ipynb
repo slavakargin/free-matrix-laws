{
 "cells": [
  {
   "cell_type": "markdown",
   "metadata": {
    "id": "FW_TCVfu94BX"
   },
   "source": [
    "# Methods for calculating the eigevalue density of matrix semicircle and of polynomials in free random variables"
   ]
  },
  {
   "cell_type": "markdown",
   "metadata": {
    "id": "sDUFtitnLeXx"
   },
   "source": [
    "This is a collection of methods to calculate the eigenvalue distribution of matrix-valued semicircular random variable and of non-commutative self-adjoint polynomials in free random varriables, in particular in semicircle r.v.s. The methods are based on work of Belinschi, Rashidi Far, Helton, Mai, Speicher."
   ]
  },
  {
   "cell_type": "code",
   "execution_count": null,
   "metadata": {
    "id": "jf_W-dSv_rLl"
   },
   "outputs": [],
   "source": [
    "import numpy as np\n",
    "import numpy.linalg as la\n",
    "from scipy.integrate import quad\n",
    "from functools import partial\n",
    "import seaborn as sns\n",
    "\n",
    "from matplotlib import pyplot as plt, patches\n",
    "from tqdm.notebook import tqdm, trange\n",
    "\n",
    "%matplotlib inline\n",
    "plt.rcParams[\"figure.figsize\"] = [7.00, 7.00]\n",
    "plt.rcParams['image.interpolation'] = 'nearest'\n",
    "plt.rcParams['image.cmap'] = 'gray'"
   ]
  },
  {
   "cell_type": "markdown",
   "metadata": {
    "id": "-rnOudMeAx2e"
   },
   "source": [
    "## Theoretical background and functions"
   ]
  },
  {
   "cell_type": "markdown",
   "metadata": {
    "id": "dh6kEYxn-Cl8"
   },
   "source": [
    "(1) eta: First we realize the map $\\eta: b \\to \\eta(b)$. This is the covariance function for the matrix semicircle $$S = a_1 s_1 + \\ldots + a_k s_k,$$ where $a_1, \\ldots, a_k$ are Hermitian matrices and $s_1, \\ldots, s_k$ are free semicircle variables.  "
   ]
  },
  {
   "cell_type": "markdown",
   "metadata": {
    "id": "Efaql51GDglu"
   },
   "source": [
    "(2a) hfs_map: Next step is to write the function that will be used to solve the equation for the matrix Cauchy transform $G(z)$, $$z G = 1 + \\eta(G) G$$ by the method of iterations. The equation was derived by Speicher in R. Speicher, “Combinatorial theory of the free product with amalgamation and operator-valued free probability theory,” Mem. Amer. Math. Soc., vol. 132, no. 627, pp. x+88, 1998 . Another proof can be found in R. Rashidi Far, T. Oraby, W.Bryc, R. Speicher: “Spectra of large block matrices,” preprint 2006, cs.IT/0610045. Here the realization is for scalar $z \\in \\mathbb C$."
   ]
  },
  {
   "cell_type": "markdown",
   "metadata": {
    "id": "KFZwhR0RLEYT"
   },
   "source": [
    "The simplest approach to equation on the Cauchy transform G is to use $$ G \\to (z - \\eta(G))^{-1}.$$ The arguments in Helton, Rashidi Far, Speicher:\n",
    "\"Operator-valued Semicircular Elements: Solving A Quadratic\n",
    "Matrix Equation with Positivity Constraints.\"\n",
    "IMRN 2007\n",
    "suggest that from the numerical viewpoint it is beneficial  to use a slightly different scheme:\n",
    "$$ G \\to \\frac{1}{2}\\Big[G + (z - \\eta(G))^{-1}\\Big].$$\n"
   ]
  },
  {
   "cell_type": "markdown",
   "metadata": {
    "id": "N-yi20HnK2mJ"
   },
   "source": [
    "(3a) get_density: Then we define a function that calculate the density of a matrix semicircle at a point $x$.\n",
    "This program calculate the matrix Cauchy transform by iterations, then reduces it to the scalar-valued Cauchy transform by taking normalized trace, and finally calculate the density by using the Stieltjes formula."
   ]
  },
  {
   "cell_type": "markdown",
   "metadata": {
    "id": "3ZmQUA3YDW0V"
   },
   "source": [
    "(2b) hfsb_map: This is a functions needed to solve a different version of the equation $$z G = 1 + \\eta(G) G,$$ namely, suppose we are interested in the matrix $S = a_0 + a_1 X_1 + \\ldots + a_n X_n$, where $X_i$ are semicircle r.v.s. For example,\n",
    "$$\n",
    "S =  \\begin{bmatrix} 0 & X_1 & X_2 \\\\ X_1 & 0 & -1 \\\\ X_2 & -1 & 0 \\end{bmatrix},\n",
    "$$\n",
    "where $X_1$ and $X_2$ are two standard semicircular variables. In this example, we have\n",
    "$$\n",
    "a_0 = \\begin{bmatrix} 0 & 0 & 0 \\\\ 0 & 0 & -1 \\\\ 0 & -1 & 0 \\end{bmatrix}, \\,\n",
    "a_1 = \\begin{bmatrix} 0 & 1 & 0 \\\\ 1 & 0 & 0 \\\\ 0 & 0 & 0 \\end{bmatrix}, \\,\n",
    "a_2 = \\begin{bmatrix} 0 & 0 & 1 \\\\ 0 & 0 & 0 \\\\ 1 & 0 & 0 \\end{bmatrix}.\n",
    "$$\n",
    "\n",
    "This example is significantly different from the matrix semicircle because the matrix semicirle variable has non-trivial expectation.\n",
    "\n",
    "First, we need to define an analogue of the hfs map, in order to be able to calculate the Cauchy transform $G_S(z) = G_{a_0 + X}$, where $X = a_1 \\otimes X_1 + a_2 \\otimes X_2$.\n",
    "For this we define $b = z(z I - a_0)^{-1}$ and define the map (hfsb_map):\n",
    "$$\n",
    "G \\mapsto \\frac{1}{2}\\Big[G + [z I - b \\eta(G)]^{-1} b\\Big].\n",
    "$$\n",
    "This should be iterated to convergence.\n",
    "\n",
    "(3b) get_density_B: uses the hsfb_map to calculate the G-transform and density\n",
    "of a biased matrix semicircle."
   ]
  },
  {
   "cell_type": "markdown",
   "metadata": {
    "id": "mHOzx6GPA-sf"
   },
   "source": [
    "(2c) hfsc_map: Often we use the biased matirx semicircle variable to compute the distribution of an hermitian non-commutative polynomial in semicircular variables. In order to find this distribution, note that we need to calculate $G(z, b(z))$, where\n",
    "$$\n",
    "b_\\epsilon(z) = z(\\Lambda_\\epsilon(z) - a_0)^{-1},\n",
    "$$\n",
    "$\\epsilon > 0$ is a small regularization paremater, and\n",
    "$$\n",
    "\\Lambda_\\epsilon(z) := \\begin{bmatrix}\n",
    " z & 0 & \\ldots & 0 \\\\\n",
    "0 & i\\epsilon & \\ldots & 0 \\\\\n",
    "\\vdots & \\vdots & \\, & \\vdots \\\\\n",
    "0 & 0 & \\ldots & i\\epsilon\n",
    "\\end{bmatrix}.\n",
    "$$\n",
    "By definition,\n",
    "$$\n",
    "G(z, b) = m_0(b)z^{-1} + m_1(b) z^{-2} + m_2(b) z^{-3} + \\ldots,\n",
    "$$\n",
    "and $m_k(b)$ are moments:\n",
    "$$\n",
    "m_k(b) := E[b(Xb)^k] = E[bXb \\ldots Xb].\n",
    "$$\n",
    "\n",
    "Once $G(z, b(z))$ is calculated, we can calculate the Cauchy transform of the polynomial $p$ by using formula\n",
    "$$\n",
    "\\phi[(z - p)^{-1}] = \\lim_{\\epsilon \\to 0} \\Big[ G(z, b_\\epsilon(z)) \\Big]_{1,1}.\n",
    "$$\n",
    "\n",
    "\n",
    "Finally, we can extract the density by the Stieljes inversion formula.\n",
    "\n",
    "For the first step we will modify a little bit the hsfb_map, and the modified version is hsfc_map.\n",
    "\n",
    "(3c) get_density_C: This is the function that uses iterations of hsfc_map to\n",
    "calculate the Cauchy transform and the density of the polynomial in semicircular variables. It requires coefficients in the linearization of the polynomial, it will not construct the linearization for you."
   ]
  },
  {
   "cell_type": "markdown",
   "metadata": {
    "id": "ETGh_fqkBpkR"
   },
   "source": []
  },
  {
   "cell_type": "markdown",
   "metadata": {
    "id": "OxpJxuUJxAOh"
   },
   "source": [
    "(4) random_semicircle: We will check that the free probability methods give a good approximation to Gaussian block matrices. So we also define a basic block for these matrices."
   ]
  },
  {
   "cell_type": "markdown",
   "metadata": {
    "id": "iOM3Hnk_x1mH"
   },
   "source": [
    "(5) Lambda: In calculation of the distribution of polynomials we will also need function\n",
    "$$\n",
    "\\Lambda_\\epsilon(z) := \\begin{bmatrix}\n",
    " z & 0 & \\ldots & 0 \\\\\n",
    "0 & i\\epsilon & \\ldots & 0 \\\\\n",
    "\\vdots & \\vdots & \\, & \\vdots \\\\\n",
    "0 & 0 & \\ldots & i\\epsilon\n",
    "\\end{bmatrix}\n",
    "$$"
   ]
  },
  {
   "cell_type": "markdown",
   "metadata": {
    "id": "tIe1ydnXypbQ"
   },
   "source": [
    "(6) G_semicircle: In some calculations, we need the Cauchy transform of the standard semicircle variable."
   ]
  },
  {
   "cell_type": "markdown",
   "metadata": {
    "id": "QQBU5EILlsyH"
   },
   "source": [
    "(7) G-matrix semicircle: This is the function that computes the matrix Cauchy transform of $b \\otimes S$ where $S$ is a semicircle random variable. This is\n",
    "a relatively sophisticated method. For more simple methods based on integration and regularization approaches, see the example about anticommutator via subordination below."
   ]
  },
  {
   "cell_type": "markdown",
   "metadata": {
    "id": "_GioWfi2m5Ir"
   },
   "source": [
    "Take unitary matrices $U_1$ and $U_2$ so that\n",
    " $$\n",
    " U_1^\\ast B U_2 = \\begin{bmatrix}\n",
    " D & 0 \\\\ 0 & 0,\n",
    " \\end{bmatrix}\n",
    " $$\n",
    " where $D = diag \\{\\lambda_1, \\ldots, \\lambda_r\\}$ is an invertible diagonal $r\\times r$ matrix, and $0$'s  represent matrices of appropriate dimensions. For self-adjoint $B$ we can take $U_1 = U_2$.\n",
    "\n",
    "Let\n",
    "$$\n",
    "   U_1^\\ast A U_2 = \\begin{bmatrix}a_{11} & a_{12} \\\\ a_{21} & a_{22}\n",
    "   \\end{bmatrix},\n",
    "$$\n",
    "where $a_{11}$ is an $r\\times r$ matrix and let\n",
    "$$\n",
    "S := a_{11} - a_{12} a_{22}^{-1} a_{21}.\n",
    "$$\n",
    "Then\n",
    "\\begin{equation}\n",
    "%\\label{equ_matrix_G1}\n",
    "G_{B\\otimes x}(A) = E (A - B\\otimes x)^{-1}  = U_2\n",
    "\\begin{bmatrix} I & 0 \\\\ -  a_{22}^{-1} a_{21} & I\n",
    "\\end{bmatrix}  M \\begin{bmatrix} I &  -  a_{12} a_{22}^{-1} \\\\ 0 & I\n",
    "\\end{bmatrix} U_1^\\ast,\n",
    "\\end{equation}\n",
    "where\n",
    "$$\n",
    " M = \\begin{bmatrix}E (S - D \\otimes x)^{-1} & 0 \\\\ 0 & a_{22}^{-1}\\end{bmatrix}.  \n",
    " $$\n",
    "\n"
   ]
  },
  {
   "cell_type": "markdown",
   "metadata": {
    "id": "SHQs2vTBnPMO"
   },
   "source": [
    " It remains to calculate $E (S - D \\otimes x)^{-1}$, and since $D$ is an invertible diagonal matrix, we can apply our original approach. Let us assume that $D^{-1} S$ is diagonalizable (this will hold for a generic $A$), then we can write\n",
    " $$\n",
    " D^{-1} S = V \\begin{bmatrix}\\mu_1 & &  \\\\  &\\ddots & \\\\ & & \\mu_r\n",
    " \\end{bmatrix} V^{-1},\n",
    " $$\n",
    " and\n",
    "\\begin{equation}\n",
    "%\\label{equ_matrix_G2}\n",
    " E \\big[(S - D\\otimes X)^{-1}\\big] =  E \\big[(D^{-1} S - I \\otimes X)^{-1}\\big] D^{-1} =\n",
    " V \\begin{bmatrix}G_x(\\mu_1) & &  \\\\  &\\ddots & \\\\ & & G_x(\\mu_r)\n",
    " \\end{bmatrix} V^{-1} D^{-1}.\n",
    " \\end{equation}"
   ]
  },
  {
   "cell_type": "markdown",
   "metadata": {
    "id": "t-pZFhrAofC9"
   },
   "source": [
    "(8) H_matrix_Semicircle: $H_{B \\otimes S}(w) = G_{B \\otimes S}^{-1}(w) - w$."
   ]
  },
  {
   "cell_type": "markdown",
   "metadata": {
    "id": "djbMBqctp5_g"
   },
   "source": [
    "(9) omega: Matrix subordination function. Recall that $\\omega_1(b)$ is the fixed point of the map\n",
    "$$\n",
    "w \\to h_y(h_x(w) + b) + b.\n",
    "$$\n",
    "where $h_x(w) = F_x(w) - w$ and $h_y(w) = F_y(w) - w$, and $F_x, F_y$ are inverses of the corresponding Cauchy transforms.\n",
    "\n",
    "Given that $\\omega_1(b)$ is calculated, we can find the Cauchy transform for the sum $x + y$ as\n",
    "$$\n",
    "G_{x + y}(b) = G_x(\\omega_1(b)).\n",
    "$$\n",
    "\n",
    "We realize $\\omega_1(b)$ as a function $\\omega\\big(b, (a_1, a_2)\\big)$. This version of omega is only for semicircle variables $x = a_1 \\otimes S_1$ and $y = a_2 \\otimes S_2$.  "
   ]
  },
  {
   "cell_type": "markdown",
   "metadata": {
    "id": "OZklBgO7ugff"
   },
   "source": [
    "(10) G_free_Poisson: Cauchy transform of the free Poisson distribution with parameter $\\lambda$.\n",
    "\n",
    "(11) G_matrix_fpoisson: Matrix version of the Cauchy transform for the free Poisson r.v. with parameter $\\lambda$.\n",
    "\n",
    "(12) H_matrix_fpoisson: $G^{-1}(w) - w$.\n",
    "\n",
    "(13) omega_sum: computes the subordination function $\\omega_1$ for the sum of two matrix random variables, not necessarily semicircle. Requires H-functions for these random variables."
   ]
  },
  {
   "cell_type": "markdown",
   "metadata": {
    "id": "N06D9fp0FiYx"
   },
   "source": [
    "(14) random_fpoisson: generates a random matrix with free Poisson distribution.\n",
    "\n",
    "(15) random_orthogonal: generates a random orthogonal matrix\n",
    "\n",
    "(16) G_matrix_custom: This is a function that calculates the matrix Cauchy transform, provided that the scalar Cauchy transform is known.\n",
    "\n",
    "(17) H_matrix_custom: The H-function that corresponds to G_matrix_custom\n",
    "\n",
    "(18) cauchy_transform_discrete: The scalar Cauchy transform of an arbitrary discrete distribution."
   ]
  },
  {
   "cell_type": "code",
   "execution_count": null,
   "metadata": {
    "colab": {
     "base_uri": "https://localhost:8080/",
     "height": 1000
    },
    "id": "aYmzLKGh93T7",
    "outputId": "6a7a86a1-dc59-49e9-d5c0-a302df940555"
   },
   "outputs": [],
   "source": [
    "#(1) covariance map\n",
    "def eta(B, AA):\n",
    "  '''\n",
    "  AA is a list or a tuple of Hermitian matrices A_1, \\ldots, A_k\n",
    "  B is sent to A_1 B A_1 + \\ldots + A_k B A_k\n",
    "  '''\n",
    "  n = B.shape[0]\n",
    "  s = len(AA)\n",
    "  result = np.zeros((n, n), dtype = np.float32)\n",
    "  for i in range(s):\n",
    "    result = result + AA[i] @ B @ AA[i]\n",
    "  return result\n",
    "\n",
    "#(2a) Iteration step needed to calculate the cauchy transform for\n",
    "# a matrix semicircle r.v.\n",
    "def hfs_map(G, z, AA):\n",
    "  ''' G is a matrix, z is a complex number with positive imaginary part,\n",
    "  G is mapped to a smoothed version of $(z - \\eta(G))^{-1}$. AA is a list of matrices\n",
    "  needed to define the function $\\eta$.\n",
    "  '''\n",
    "  n = G.shape[0]\n",
    "  #return la.inv(z * np.eye(n) - eta(G, AA))\n",
    "  return (G + la.inv(z * np.eye(n) - eta(G, AA)))/2\n",
    "\n",
    "#(3a) A function that calculates the Cauchy transform and the distribution\n",
    "#density for a matrix semicircle r.v.\n",
    "def get_density(x, AA, eps=0.01, max_iter=10000):\n",
    "  ''' Calculate the density at the real point x, given the data\n",
    "  in the tuple of matrices $AA = (A1, \\ldots, As)$\n",
    "  Uses eps as the distance of the point $x + i eps$ from the\n",
    "  real axis.\n",
    "  '''\n",
    "  z = x + 1j * eps\n",
    "  n = AA[0].shape[0]\n",
    "  G = 1/z * np.eye(n) #initialization\n",
    "  diffs = np.zeros((max_iter, 1))\n",
    "  for i in range(max_iter):\n",
    "    G1 = hfs_map(G, z, AA)\n",
    "    diffs[i] = la.norm(G1 - G)\n",
    "    if la.norm(G1 - G) < 1e-10:\n",
    "      break\n",
    "    G = G1\n",
    "    if i == max_iter - 1:\n",
    "      print(\"Warning: no convegence after \", max_iter, \"iterations\")\n",
    "  f = (-1/np.pi) * np.imag(np.trace(G)/n)\n",
    "  #plt.plot(diffs) #this is for diagnostic purposes\n",
    "  #plt.yscale(\"log\")\n",
    "  return f\n",
    "\n",
    "\n",
    "#(2b) the main iteration steps in the calculation of the density for a\n",
    "#biased matrix semicircle\n",
    "def hfsb_map(G, z, a, AA):\n",
    "  ''' G is a matrix, z is a complex number with positive imaginary part,\n",
    "  a is a bias matrix, AA is a list of matrices\n",
    "  needed to define the function $\\eta$.\n",
    "  '''\n",
    "  n = G.shape[0]\n",
    "  b = z * la.inv(z * np.eye(n) - a)\n",
    "  W = la.inv(z * np.eye(n) - b @ eta(G, AA)) @ b\n",
    "  return (G + W)/2\n",
    "  #return W\n",
    "\n",
    "#(3b) calculates the Cauchy transform and the density of a biased matrix semicircle\n",
    "def get_density_B(x, a, AA, eps=0.01, max_iter=10000):\n",
    "  ''' Calculate the density at the real point x, given the data\n",
    "  in the tuple of matrices $AA = (A1, \\ldots, As)$, and the bias matrix a.\n",
    "  Uses eps as the distance of the point $x + i eps$ from the\n",
    "  real axis.\n",
    "  '''\n",
    "  z = x + 1j * eps\n",
    "  n = AA[0].shape[0]\n",
    "  G = 1/z * np.eye(n) #initialization\n",
    "  diffs = np.zeros((max_iter, 1))\n",
    "  for i in range(max_iter):\n",
    "    G1 = hfsb_map(G, z, a, AA)\n",
    "    diffs[i] = la.norm(G1 - G)\n",
    "    if la.norm(G1 - G) < 1e-14:\n",
    "      break\n",
    "    G = G1\n",
    "    if i == max_iter - 1:\n",
    "      print(\"Warning: no convegence after \", max_iter, \"iterations\")\n",
    "  f = (-1/np.pi) * np.imag(np.trace(G)/n)\n",
    "  #plt.plot(diffs) #this is for diagnostic purposes\n",
    "  #plt.yscale(\"log\")\n",
    "  return f\n",
    "\n",
    "\n",
    "#(2c) An iteration step in the calculation of the Cauchy transform\n",
    "# and the density for a polynomial in semicircle r.v.s.\n",
    "def hfsc_map(G, z, a, AA):\n",
    "  ''' G is a matrix, z is a complex number with positive imaginary part,\n",
    "  a is a bias matrix, AA is a list of matrices\n",
    "  needed to define the function $\\eta$.\n",
    "  '''\n",
    "  n = G.shape[0]\n",
    "  b = z * la.inv(Lambda(z, n) - a)\n",
    "  W = la.inv(z * np.eye(n) - b @ eta(G, AA)) @ b\n",
    "  return (G + W)/2\n",
    "  #return W\n",
    "\n",
    "#(3c) A function that computes the Cauchy transform and the density for\n",
    "#a polynomial in semicircle r.v.s.\n",
    "def get_density_C(x, a, AA, eps=0.01, max_iter=10000):\n",
    "  ''' Calculate the density at the real point x, given the data\n",
    "  in the tuple of matrices $AA = (A1, \\ldots, As)$, and the bias matrix a.\n",
    "  Uses eps as the distance of the point $x + i eps$ from the\n",
    "  real axis.\n",
    "  '''\n",
    "  z = x + 1j * eps\n",
    "  n = AA[0].shape[0]\n",
    "  G = 1/z * np.eye(n) #initialization\n",
    "  diffs = np.zeros((max_iter, 1))\n",
    "  for i in range(max_iter):\n",
    "    G1 = hfsc_map(G, z, a, AA)\n",
    "    diffs[i] = la.norm(G1 - G)\n",
    "    if la.norm(G1 - G) < 1e-12:\n",
    "      break\n",
    "    G = G1\n",
    "    if i == max_iter - 1:\n",
    "      print(\"Warning: no convegence after \", max_iter, \"iterations\")\n",
    "  f = (-1/np.pi) * np.imag(G[0, 0])\n",
    "  #plt.plot(diffs) #this is for diagnostic purposes\n",
    "  #plt.yscale(\"log\")\n",
    "  return f\n",
    "\n",
    "#(4) creates a random Hermitian Gaussian matrix with approximately semicircle\n",
    "# distribution.\n",
    "def random_semicircle(size):\n",
    "  '''generate a random Hermitian Gaussian matrix of size n-by-n normalized by 1/sqrt(n),\n",
    "  where n = size'''\n",
    "  random_matrix = np.random.randn(size, size)\n",
    "  return (random_matrix + random_matrix.T)/( np.sqrt(2 * size))\n",
    "\n",
    "#Example of usage:\n",
    "size = 200\n",
    "A = random_semicircle(size)\n",
    "print(la.norm(A - A.T))\n",
    "e = la.eigvalsh(A)\n",
    "plt.plot(e)\n",
    "np.trace(A * A)\n",
    "\n",
    "def Lambda(z, size, eps = 1E-6):\n",
    "  ''' Lambda_eps(z) needed to calculate the distribution of a polynomial\n",
    "  of free random variables.'''\n",
    "  A = eps * 1.j * np.eye(size)\n",
    "  A[0, 0] = z\n",
    "  return A\n",
    "\n",
    "print(Lambda(1.j, 3))\n",
    "\n",
    "def G_semicircle(z):\n",
    "    \"\"\"\n",
    "    Computes the Cauchy transform of the semicircle distribution for a given complex number z,\n",
    "    ensuring that if z has a positive imaginary part, the output has a negative imaginary part,\n",
    "    and vice versa.\n",
    "\n",
    "    Parameters:\n",
    "        z (complex or array-like): The point(s) at which to evaluate the Cauchy transform.\n",
    "\n",
    "    Returns:\n",
    "        complex or ndarray: The value(s) of the Cauchy transform at z.\n",
    "    \"\"\"\n",
    "    z = np.asarray(z, dtype=np.complex128)  # Ensure input is treated as complex\n",
    "\n",
    "    # Compute the discriminant\n",
    "    discriminant = np.sqrt(z**2 - 4)\n",
    "\n",
    "    # Ensure the output's imaginary part has the desired symmetry\n",
    "    discriminant = np.where(discriminant.imag * z.imag < 0, -discriminant, discriminant)\n",
    "\n",
    "    # Compute the Cauchy transform\n",
    "    G = (z - discriminant) / 2\n",
    "\n",
    "    return G\n",
    "\n",
    "# Example usage\n",
    "z = 3 + 4j  # Example input\n",
    "result = G_semicircle(z)\n",
    "print(f\"Cauchy transform at {z} is {result}\")\n",
    "\n",
    "# Test with an array of values\n",
    "z_array = [3 + 4j, 1 + 1j, 3 - 4j, 1 - 1j]\n",
    "result_array = G_semicircle(z_array)\n",
    "print(f\"Cauchy transform for array {z_array} is {result_array}\")\n",
    "\n",
    "plt.figure()\n",
    "z = np.linspace(-4,4) - 0.01j\n",
    "plt.plot(np.imag(G_semicircle(z)))\n",
    "z = np.linspace(-4,4) + 0.01j\n",
    "plt.plot(np.imag(G_semicircle(z)))\n",
    "\n",
    "\n",
    "def G_matrix_semicircle(w, B, rank):\n",
    "  ''' computes G(w) for the semicirle B \\otimes x,\n",
    "  rank is the rank of matrix B '''\n",
    "  w = np.asarray(w, dtype=np.complex128)  # Ensure input is treated as complex\n",
    "  n = B.shape[0]\n",
    "  U1, d, U2t = la.svd(B)\n",
    "  U2 = np.conj(U2t.T)\n",
    "  #print(\"U1 =\", U1)\n",
    "  #print(d)\n",
    "  #print(\"U2 =\", U2)\n",
    "  #print(\"should be D: \", np.conj(U1.T) @ B @ U2) #\n",
    "  A_transf = np.conj(U1.T) @ w @ U2\n",
    "  #print(\"A_transf = \", A_transf)\n",
    "\n",
    "  A11 = A_transf[0:rank, 0:rank]\n",
    "  A12 = A_transf[0: rank, rank:n]\n",
    "  A21 = A_transf[rank:n, 0: rank]\n",
    "  A22 = A_transf[rank:n, rank:n]\n",
    "  D = np.diag(d[0:rank])\n",
    "  #print(\"D = \", D)\n",
    "  S = A11 - A12 @ la.inv(A22) @ A21\n",
    "  #print('S = ', S)\n",
    "  mu, V = la.eig(la.inv(D) @ S)\n",
    "  #print('mu =', mu)\n",
    "  #print(V)\n",
    "  #print('S = ', V @ np.diag(mu) @ la.inv(V))\n",
    "  #print(\"G(mu) = \", G_semicircle(mu))\n",
    "  M11 = V @ np.diag(G_semicircle(mu)) @ la.inv(V) @ la.inv(D)\n",
    "  #print('M11 = ', M11)\n",
    "  M = np.block([[M11, np.zeros((rank, n - rank))], [np.zeros((n - rank, rank)), la.inv(A22)]])\n",
    "  #print(\"M = \", M)\n",
    "  G = U2 @ (np.block([[np.eye(rank), np.zeros((rank, n - rank))], [-  la.inv(A22) @ A21 , np.eye(n - rank)]])\n",
    "       @ M  @ np.block([[np.eye(rank), -A12 @ la.inv(A22)], [np.zeros((n - rank, rank)), np.eye(n - rank)]]))  @ np.conj(U1.T)\n",
    "  return(G)\n",
    "\n",
    "def H_matrix_semicircle(w, B, rank):\n",
    "  ''' This is the h function: h = G(w)^{-1} - w$ '''\n",
    "  return(la.inv(G_matrix_semicircle(w, B, rank)) - w)\n",
    "\n",
    "\n",
    "n = 3\n",
    "rank = 2\n",
    "A1 = np.array([[0, 0, 1], [0, 0, 0], [1, 0, 0]])\n",
    "z = (0.0 + 1j)\n",
    "w = z * np.eye(n)\n",
    "\n",
    "G = G_matrix_semicircle(w, A1, rank)\n",
    "print(\"G_matrix_semicircle = \", G)\n",
    "\n",
    "H = H_matrix_semicircle(w, A1, rank)\n",
    "print(\"H_matrix_semicircle = \", H)\n",
    "\n",
    "def omega(b, AA, rank, max_iter = 10000):\n",
    "  ''' This computes subordination function for the sum of two semicircle variables.\n",
    "  AA = (A1, A2), rank is a (rank1, rank2), where rank1 is the rank of matrix A1,\n",
    "  and rank2 is the rank of matrix A2.\n",
    "  '''\n",
    "  W0 = 1.j * np.eye(n) #(initialization)\n",
    "  A1 = AA[0]\n",
    "  A2 = AA[1]\n",
    "  for i in range(max_iter):\n",
    "    W1 = H_matrix_semicircle(W0, A1, rank = rank[0]) + b\n",
    "    W2 = H_matrix_semicircle(W1, A2, rank = rank[1]) + b\n",
    "    if la.norm(W2 - W0) < 1e-12:\n",
    "      break\n",
    "    W0 = W2\n",
    "    if i == max_iter - 1:\n",
    "      print(\"Warning: no convergence after \", max_iter, \"iterations\")\n",
    "  return W0\n",
    "\n",
    "#an example\n",
    "A0 = np.array([[0, 0, 0], [0, 0, -1], [0, -1, 0]])\n",
    "A1 = np.array([[0, 1, 0], [1, 0, 0], [0, 0, 0]])\n",
    "A2 = np.array([[0, 0, 1], [0, 0, 0], [1, 0, 0]])\n",
    "print(A0)\n",
    "print(A1)\n",
    "print(A2)\n",
    "AA = (A1, A2)\n",
    "n = A0.shape[0]\n",
    "\n",
    "z = .5 + .01j\n",
    "B = Lambda(z, n) - A0\n",
    "print(B)\n",
    "\n",
    "print('result = ', omega(B, AA, rank = (2, 2)))\n",
    "\n",
    "#(10) Cauchy transform of free Poisson\n",
    "def G_free_poisson(z, lambda_param):\n",
    "    \"\"\"\n",
    "    Explicit formula for the Cauchy transform of the free Poisson distribution\n",
    "    with parameter λ.\n",
    "\n",
    "    Args:\n",
    "        z (complex): The point at which to evaluate the Cauchy transform.\n",
    "        lambda_param (float): The parameter λ of the free Poisson law.\n",
    "\n",
    "    Returns:\n",
    "        G (complex): The value of the Cauchy transform G(z).\n",
    "    \"\"\"\n",
    "\n",
    "    z = np.asarray(z, dtype=np.complex128)  # Ensure input is treated as complex\n",
    "    # Compute the interval [a, b] of the support\n",
    "    a = (1 - np.sqrt(lambda_param))**2\n",
    "    #print(a)\n",
    "    b = (1 + np.sqrt(lambda_param))**2\n",
    "    #print(b)\n",
    "\n",
    "    # Compute the square root term with correct branch\n",
    "    sqrt_term = np.sqrt((z - a) * (z - b))\n",
    "    #sqrt_term = np.sqrt((1 + z - lambda_param)**2 - 4 * z) #alternative expression\n",
    "\n",
    "    sqrt_term = np.where(sqrt_term.imag * z.imag < 0, -sqrt_term, sqrt_term)\n",
    "\n",
    "    # Explicit formula for the Cauchy transform\n",
    "    G = (1 + z - lambda_param - sqrt_term) / (2 * z)\n",
    "    if lambda_param < 1: #in this case G also has an atom at 0 with weight (1 - lambda)\n",
    "      G = G + (1 - lambda_param)/z\n",
    "\n",
    "    return G\n",
    "\n",
    "\n",
    "\n",
    "lambda_param = 4  # Set λ (parameter of the free Poisson law)\n",
    "z = 3 + 1j          # Complex number at which to evaluate G(z)\n",
    "\n",
    "# Compute the Cauchy transform\n",
    "G_z = G_free_poisson(z, lambda_param)\n",
    "print(f\"Cauchy transform G({z}) for λ={lambda_param}: {G_z}\")\n",
    "\n",
    "#visualization\n",
    "\n",
    "plt.figure()\n",
    "#z = np.linspace(-4,4) - 0.01j\n",
    "#plt.plot(np.imag(G_free_poisson(z, 2)))\n",
    "m = 100\n",
    "al = (1 - np.sqrt(lambda_param))**2\n",
    "au = (1 + np.sqrt(lambda_param))**2\n",
    "x =  np.linspace(al,au, m)\n",
    "z = x - 0.01j\n",
    "plt.plot(x, np.imag(G_free_poisson(z, lambda_param)))\n",
    "z = x + 0.01j\n",
    "plt.plot(x, np.imag(G_free_poisson(z, lambda_param)))\n",
    "plt.grid()\n",
    "\n",
    "#let's check that this corresponds to a valid density function.\n",
    "f = - np.imag(G_free_poisson(z, lambda_param))/np.pi\n",
    "print(sum(f)* (au - al)/m)\n",
    "\n",
    "\n",
    "# (11) Matrix version of the Cauchy transform for the free Poisson random variable.\n",
    "def G_matrix_fpoisson(w, B, rank, lambda_param):\n",
    "  ''' computes G(w) for the free Poisson r.v. B \\otimes x,\n",
    "  rank is the rank of matrix B '''\n",
    "  w = np.asarray(w, dtype=np.complex128)  # Ensure input is treated as complex\n",
    "  n = B.shape[0]\n",
    "  U1, d, U2t = la.svd(B)\n",
    "  U2 = np.conj(U2t.T)\n",
    "  A_transf = np.conj(U1.T) @ w @ U2\n",
    "\n",
    "  A11 = A_transf[0:rank, 0:rank]\n",
    "  A12 = A_transf[0: rank, rank:n]\n",
    "  A21 = A_transf[rank:n, 0: rank]\n",
    "  A22 = A_transf[rank:n, rank:n]\n",
    "  D = np.diag(d[0:rank])\n",
    "  S = A11 - A12 @ la.inv(A22) @ A21\n",
    "  mu, V = la.eig(la.inv(D) @ S)\n",
    "  M11 = V @ np.diag(G_free_poisson(mu, lambda_param)) @ la.inv(V) @ la.inv(D)\n",
    "  M = np.block([[M11, np.zeros((rank, n - rank))], [np.zeros((n - rank, rank)), la.inv(A22)]])\n",
    "  G = U2 @ (np.block([[np.eye(rank), np.zeros((rank, n - rank))], [-  la.inv(A22) @ A21 , np.eye(n - rank)]])\n",
    "       @ M  @ np.block([[np.eye(rank), -A12 @ la.inv(A22)], [np.zeros((n - rank, rank)), np.eye(n - rank)]]))  @ np.conj(U1.T)\n",
    "  return(G)\n",
    "\n",
    "def H_matrix_fpoisson(w, B, rank, lambda_param):\n",
    "  ''' This is the h function: h = G(w)^{-1} - w$ '''\n",
    "  return(la.inv(G_matrix_fpoisson(w, B, rank, lambda_param)) - w)\n",
    "\n",
    "\n",
    "#(13) subordination function for the sum of two matrix random variables.\n",
    "def omega_sub(b, AA, rank, H1_name=\"H_matrix_semicircle\", H2_name=\"H_matrix_semicircle\",\n",
    "              H1_kwargs=None, H2_kwargs=None, max_iter=10000):\n",
    "    '''\n",
    "    Computes subordination function omega_1(b) for the sum of two free random variables variables.\n",
    "\n",
    "    AA = (A1, A2), where A1 and A2 are matrices.\n",
    "    rank = (rank1, rank2), where rank1 is the rank of matrix A1, and rank2 is the rank of matrix A2.\n",
    "    H1_name, H2_name are string names of the functions to be applied.\n",
    "    H1_kwargs, H2_kwargs are dictionaries containing additional arguments for H1 and H2.\n",
    "    '''\n",
    "    n = AA[0].shape[0]  # Assuming A1 and A2 are square matrices of the same size\n",
    "    W0 = 1.j * np.eye(n)  # Initialization\n",
    "    A1, A2 = AA\n",
    "\n",
    "    # Get function references from globals()\n",
    "    H1 = globals()[H1_name]\n",
    "    H2 = globals()[H2_name]\n",
    "\n",
    "    # Initialize kwargs dictionaries if None\n",
    "    if H1_kwargs is None:\n",
    "        H1_kwargs = {}\n",
    "    if H2_kwargs is None:\n",
    "        H2_kwargs = {}\n",
    "\n",
    "    for i in range(max_iter):\n",
    "        W1 = H1(W0, A1, rank=rank[0], **H1_kwargs) + b\n",
    "        W2 = H2(W1, A2, rank=rank[1], **H2_kwargs) + b\n",
    "\n",
    "        if la.norm(W2 - W0) < 1e-12:\n",
    "            break\n",
    "        W0 = W2\n",
    "\n",
    "        if i == max_iter - 1:\n",
    "            print(\"Warning: no convergence after\", max_iter, \"iterations\")\n",
    "\n",
    "    return W0\n",
    "\n",
    "#(14) generator of a free Poisson matrix\n",
    "def random_fpoisson(size, lam):\n",
    "  '''generate a random Hermitian matrix of size n-by-n, where n = size, that have the free Poisson\n",
    "  distribution with parameter lambda.\n",
    "  '''\n",
    "  random_matrix = np.random.randn(size, int(np.floor(size * lam)))\n",
    "  return (random_matrix @ random_matrix.T) /size\n",
    "\n",
    "#Example of usage:\n",
    "size = 200\n",
    "lam = 4\n",
    "A = random_fpoisson(size, lam)\n",
    "print(la.norm(A - A.T))\n",
    "e = la.eigvalsh(A)\n",
    "plt.figure()\n",
    "plt.plot(e)\n",
    "np.trace(A)/size\n",
    "\n",
    "#(15) random orthogonal matrix\n",
    "def random_orthogonal(n):\n",
    "    # Step 1: Generate a random n x n matrix A\n",
    "    A = np.random.randn(n, n)\n",
    "\n",
    "    # Step 2: Perform QR decomposition on A\n",
    "    Q, R = np.linalg.qr(A)\n",
    "\n",
    "    # Q is the orthogonal matrix we want\n",
    "    return Q\n",
    "\n",
    "# Example usage\n",
    "n = 3  # Dimension of the matrix\n",
    "Q = random_orthogonal(n)\n",
    "print(\"Random Orthogonal Matrix Q:\\n\", Q)\n",
    "\n",
    "# (16) This is a function that calculates the matrix Cauchy transform, provided that\n",
    "#the scalar Cauchy transform is known.\n",
    "def G_matrix_custom(w, B, rank, G_name=\"G_semicircle\", G_kwargs=None):\n",
    "  ''' computes G(w) for the r.v. B \\otimes x, where x has a custom measure mu_x above,\n",
    "  with the scalar Cauchy transform function $G_name$, and\n",
    "  rank is the rank of matrix B '''\n",
    "\n",
    "  # Get function references from globals()\n",
    "  G = globals()[G_name]\n",
    "\n",
    "  # Initialize kwargs dictionaries if None\n",
    "  if G_kwargs is None:\n",
    "    G_kwargs = {}\n",
    "\n",
    "\n",
    "  w = np.asarray(w, dtype=np.complex128)  # Ensure input is treated as complex\n",
    "  n = B.shape[0]\n",
    "  U1, d, U2t = la.svd(B)\n",
    "  U2 = np.conj(U2t.T)\n",
    "  A_transf = np.conj(U1.T) @ w @ U2\n",
    "\n",
    "  A11 = A_transf[0:rank, 0:rank]\n",
    "  A12 = A_transf[0: rank, rank:n]\n",
    "  A21 = A_transf[rank:n, 0: rank]\n",
    "  A22 = A_transf[rank:n, rank:n]\n",
    "  D = np.diag(d[0:rank])\n",
    "  S = A11 - A12 @ la.inv(A22) @ A21\n",
    "  mu, V = la.eig(la.inv(D) @ S)\n",
    "  M11 = V @ np.diag(G(mu, **G_kwargs)) @ la.inv(V) @ la.inv(D)\n",
    "  M = np.block([[M11, np.zeros((rank, n - rank))], [np.zeros((n - rank, rank)), la.inv(A22)]])\n",
    "  G = U2 @ (np.block([[np.eye(rank), np.zeros((rank, n - rank))], [-  la.inv(A22) @ A21 , np.eye(n - rank)]])\n",
    "       @ M  @ np.block([[np.eye(rank), -A12 @ la.inv(A22)], [np.zeros((n - rank, rank)), np.eye(n - rank)]]))  @ np.conj(U1.T)\n",
    "  return(G)\n",
    "\n",
    "# (17) The H-function that corresponds to G_matrix_custom\n",
    "def H_matrix_custom(w, B, rank, G_name=\"G_semicircle\", G_kwargs=None):\n",
    "  ''' This is the h function: h = G(w)^{-1} - w$ '''\n",
    "  return(la.inv(G_matrix_custom(w, B, rank, G_name, G_kwargs)) - w)\n",
    "\n",
    "n = 3\n",
    "rank = 2\n",
    "A1 = np.array([[0, 0, 1], [0, 0, 0], [1, 0, 0]])\n",
    "z = (0.0 + 1j)\n",
    "w = z * np.eye(n)\n",
    "\n",
    "G = G_matrix_custom(w, A1, rank, G_name=\"G_semicircle\")\n",
    "print(\"G_matrix_custom = \", G)\n",
    "\n",
    "H = H_matrix_custom(w, A1, rank,  G_name=\"G_semicircle\")\n",
    "print(\"H_matrix_custom = \", H)\n",
    "\n",
    "\n",
    "#(18) The scalar Cauchy transform of an arbitrary discrete distribution\n",
    "def cauchy_transform_discrete(z, points, weights):\n",
    "    \"\"\"\n",
    "    Computes the Cauchy transform G_mu(z) for a measure defined by\n",
    "    discrete points and their corresponding weights.\n",
    "\n",
    "    Parameters:\n",
    "    z : complex or array-like\n",
    "        Evaluation point(s) in the complex plane.\n",
    "    points : list or array-like\n",
    "        Locations of the discrete measure.\n",
    "    weights : list or array-like\n",
    "        Corresponding weights of the measure.\n",
    "    \"\"\"\n",
    "    z = np.asarray(z)[:, np.newaxis]  # Ensure z is a column vector\n",
    "    points = np.asarray(points)\n",
    "    weights = np.asarray(weights)\n",
    "    return np.sum(weights / (z - points), axis=1)\n",
    "\n",
    "# Example usage\n",
    "points = np.array([-2, -1, 1])  # Support points\n",
    "weights = np.array([2/4, 1/4, 1/4])  # Corresponding weights\n",
    "z_values = np.linspace(-3, 3, 500) + 0.1j  # Evaluate on the upper half-plane\n",
    "G_values = cauchy_transform_discrete(z_values, points, weights)\n",
    "\n",
    "# Plot real and imaginary parts\n",
    "plt.figure(figsize=(8, 5))\n",
    "plt.plot(z_values.real, G_values.real, label=\"Re(G_mu(z))\", linestyle='dashed')\n",
    "plt.plot(z_values.real, G_values.imag, label=\"Im(G_mu(z))\")\n",
    "plt.xlabel(\"Re(z)\")\n",
    "plt.ylabel(\"G_mu(z)\")\n",
    "plt.legend()\n",
    "plt.title(\"Cauchy Transform of Given Distribution\")\n",
    "plt.grid()\n",
    "plt.show()"
   ]
  },
  {
   "cell_type": "markdown",
   "metadata": {
    "id": "8F8nXeigAWr0"
   },
   "source": [
    "## Example 1 (Eigenvalue distribution of a matrix semicircle)."
   ]
  },
  {
   "cell_type": "markdown",
   "metadata": {
    "id": "rQE3Qic3__H_"
   },
   "source": [
    "Let us try an example (borrowed from Mai-Speicher) $$ b = \\begin{bmatrix} 0 & 0 & 1 \\\\ 0 & 0 & 0 \\\\ 0 & 0 & 0 \\end{bmatrix} $$\n",
    "$$ a_1 = \\begin{bmatrix} 0 & 2 i & 0 \\\\ -2i & 0 & 0 \\\\ 0 & 0 & 0 \\end{bmatrix}, \\,\n",
    "a_2 = \\begin{bmatrix} 0 & 0 & i \\\\ 0 & 0 & 0 \\\\ -i & 0 & 0 \\end{bmatrix}, \\,\n",
    "a_3 = \\begin{bmatrix} 0 & i & 0 \\\\ -i & 0 & -i \\\\ 0 & i & 0 \\end{bmatrix}\n",
    "$$\n",
    "The matrix $S$ is then\n",
    "$$\n",
    "S = i \\begin{bmatrix} 0 & 2s_1 + s_3 & s_2 \\\\ -2s_1 - s_3 & 0 & -s_3 \\\\ -s_2 & s_3 & 0 \\end{bmatrix}\n",
    "$$"
   ]
  },
  {
   "cell_type": "code",
   "execution_count": null,
   "metadata": {
    "colab": {
     "base_uri": "https://localhost:8080/"
    },
    "id": "hj4AqtVjAQXs",
    "outputId": "6110b6f0-94a4-4ad2-e21d-3341ff5e6038"
   },
   "outputs": [],
   "source": [
    "B = np.array([[0, 0, 1], [0, 0, 0], [0, 0, 0]], dtype=np.float32)\n",
    "print(B)\n",
    "A1 = 2.j * np.array([[0, 1, 0], [-1, 0, 0], [0, 0, 0]])\n",
    "print(A1)\n",
    "A2 = 1.j * np.array([[0, 0, 1], [0, 0, 0], [-1, 0, 0]])\n",
    "A3 = 1.j * np.array([[0, 1, 0], [-1, 0, -1], [0, 1, 0]])\n",
    "AA = (A1, A2, A3)\n",
    "etaB = eta(B, AA)\n",
    "etaB"
   ]
  },
  {
   "cell_type": "markdown",
   "metadata": {
    "id": "rNqmW9DkG1O7"
   },
   "source": [
    "Let us try the itetative method for solving the basic equation and iterate it to convergence."
   ]
  },
  {
   "cell_type": "code",
   "execution_count": null,
   "metadata": {
    "colab": {
     "base_uri": "https://localhost:8080/",
     "height": 756,
     "referenced_widgets": [
      "a0e62e4d25c24b1282f36dfcf2549a66",
      "266ccd0cb3634df4a321099314886109",
      "42b9d98719d64ce482661ac9bade5a23",
      "c7f990af4b6e4cb982f25276094d3f1f",
      "8859c4f44ef140cda69b98453d0147e9",
      "e42bda54358d4763b57b1e44f52f94a3",
      "6f9e93c7de48432b9ac391897e3ad020",
      "b12dee52e2934e98aef08c64ba71f873",
      "a1da258a89a144d68a309d90bfe47432",
      "8851062fb74349bdb72a3232c3eb591e",
      "322159ab16fd44cc997d2d99948e29ea"
     ]
    },
    "id": "k5Il6-A_IlxY",
    "outputId": "ead14b15-d205-490c-b677-aab50b6a5dab"
   },
   "outputs": [],
   "source": [
    "z = .01j\n",
    "n = 3\n",
    "G0 = .1/z * np.eye(n)\n",
    "G = hfs_map(G0, z, AA)\n",
    "print(G)\n",
    "\n",
    "max_iter = 150\n",
    "diffs = np.zeros((max_iter, 1))\n",
    "for i in trange(max_iter):\n",
    "  G1 = hfs_map(G, z, AA)\n",
    "  diffs[i] = la.norm(G1 - G)\n",
    "  G = G1\n",
    "plt.plot(diffs)\n",
    "plt.yscale(\"log\")\n",
    "plt.title(\"Convergence of the method\")\n",
    "print(G)"
   ]
  },
  {
   "cell_type": "code",
   "execution_count": null,
   "metadata": {
    "colab": {
     "base_uri": "https://localhost:8080/"
    },
    "id": "jqe4ZQvhOfhp",
    "outputId": "c599a9b3-88e2-48e7-85fc-006eda199c16"
   },
   "outputs": [],
   "source": [
    "f = get_density(0., AA)\n",
    "print(f)"
   ]
  },
  {
   "cell_type": "markdown",
   "metadata": {
    "id": "0KLp_ARoRKIQ"
   },
   "source": [
    "Let us get the plot of the density. Two interesting features: (1) the density is symmetric.\n",
    "\n",
    "(2) the density might have a singularity at zero. -- I am not actually sure about this."
   ]
  },
  {
   "cell_type": "code",
   "execution_count": null,
   "metadata": {
    "colab": {
     "base_uri": "https://localhost:8080/",
     "height": 633
    },
    "id": "OoHy13i2RQyg",
    "outputId": "46998068-ac58-4690-9cdd-acf4c2a16505"
   },
   "outputs": [],
   "source": [
    "a = 8\n",
    "m = 100\n",
    "XX = np.linspace(-a, a, m)\n",
    "f = np.zeros(XX.shape)\n",
    "for i, x in enumerate(XX):\n",
    "  f[i] = get_density(x, AA)\n",
    "\n",
    "print(sum(f)*2*a/m) #just to check that the integral of the density is 1 (approximately)\n",
    "plt.plot(XX, f)\n"
   ]
  },
  {
   "cell_type": "markdown",
   "metadata": {
    "id": "dLucUh8F3_Wc"
   },
   "source": [
    "Let us now see if this aggrees with numerical data from simulations. Recall that matrix $S$ is\n",
    "$$\n",
    "S = i \\begin{bmatrix} 0 & 2s_1 + s_3 & s_2 \\\\ -2s_1 - s_3 & 0 & -s_3 \\\\ -s_2 & s_3 & 0 \\end{bmatrix}\n",
    "$$\n",
    "We will build it using our basic blocks and calculate eigenvalues. We will repeat it T times and plot the histogram of the results."
   ]
  },
  {
   "cell_type": "code",
   "execution_count": null,
   "metadata": {
    "colab": {
     "base_uri": "https://localhost:8080/",
     "height": 658
    },
    "id": "A2A9dWsO01qG",
    "outputId": "ede9163f-87f4-4367-c519-352c22dc9685"
   },
   "outputs": [],
   "source": [
    "size = 200\n",
    "zero_m = np.zeros((size, size))\n",
    "T = 10\n",
    "EE = np.zeros((3 * size,T))\n",
    "for count in range(T):\n",
    "  S1 = random_semicircle(size)\n",
    "  S2 = random_semicircle(size)\n",
    "  S3 = random_semicircle(size)\n",
    "  S = 1.j * np.block([[zero_m, 2 * S1 + S3, S2], [-2 * S1 - S3, zero_m, -S3], [-S2, S3, zero_m]])\n",
    "  #la.norm(S - np.conj(S.T))\n",
    "  e = la.eigvalsh(S)\n",
    "  EE[:,count] = e\n",
    "\n",
    "EE = EE.reshape(-1)\n",
    "\n",
    "#plt.plot(EE)\n",
    "\n",
    "plt.figure()\n",
    "# Plot histogram with density\n",
    "plt.hist(EE, bins=20, density=True, edgecolor='black', alpha=0.6, label=\"Histogram\")\n",
    "# Plot theoretical density curve\n",
    "plt.plot(XX, f, color='red', label=\"Theoretical Density\")\n",
    "\n",
    "# Add labels and legend\n",
    "plt.title(\"Histogram with Theoretical Density Curve\")\n",
    "plt.xlabel(\"Values\")\n",
    "plt.ylabel(\"Density\")\n",
    "plt.legend()\n",
    "\n"
   ]
  },
  {
   "cell_type": "markdown",
   "metadata": {
    "id": "gFYWSBKbJcUS"
   },
   "source": [
    "## Example 2: Toeplitz Semicircle Matrix"
   ]
  },
  {
   "cell_type": "markdown",
   "metadata": {
    "id": "7wRC-aQhJy_S"
   },
   "source": [
    "Here we will be interested in the matrix\n",
    "$$\n",
    "S =  \\begin{bmatrix} A & B & C \\\\ B & A & B \\\\ C & B & A \\end{bmatrix},\n",
    "$$\n",
    "where $A$, $B$, and $C$ are free semicircular. In this case we have\n",
    "$$\n",
    "a_1 = \\begin{bmatrix} 1 & 0 & 0 \\\\ 0 & 1 & 0 \\\\ 0 & 0 & 1 \\end{bmatrix}, \\,\n",
    "a_2 = \\begin{bmatrix} 0 & 1 & 0 \\\\ 1 & 0 & 1 \\\\ 0 & 1 & 0 \\end{bmatrix}, \\,\n",
    "a_3 = \\begin{bmatrix} 0 & 0 & 1 \\\\ 0 & 0 & 0 \\\\ 1 & 0 & 0 \\end{bmatrix}.\n",
    "$$"
   ]
  },
  {
   "cell_type": "code",
   "execution_count": null,
   "metadata": {
    "colab": {
     "base_uri": "https://localhost:8080/",
     "height": 790
    },
    "id": "7YqCZ0WN5BCk",
    "outputId": "5f798f44-e084-44a2-8459-d4958a64dc4f"
   },
   "outputs": [],
   "source": [
    "A1 = np.array([[1, 0, 0], [0, 1, 0], [0, 0, 1]])\n",
    "A2 = np.array([[0, 1, 0], [1, 0, 1], [0, 1, 0]])\n",
    "A3 = np.array([[0, 0, 1], [0, 0, 0], [1, 0, 0]])\n",
    "print(A1)\n",
    "print(A2)\n",
    "print(A3)\n",
    "AA = (A1, A2, A3)\n",
    "a = 5\n",
    "XX = np.linspace(-a, a, 100)\n",
    "m = XX.size\n",
    "f = np.zeros(XX.shape)\n",
    "for i, x in enumerate(XX):\n",
    "  f[i] = get_density(x, AA)\n",
    "\n",
    "print(sum(f)*2*a/m) #just to check that the integral of the density is 1 (approximately)\n",
    "plt.plot(XX, f)"
   ]
  },
  {
   "cell_type": "markdown",
   "metadata": {
    "id": "segNFPL3NmoV"
   },
   "source": [
    "Now we will check this result using numerical simulations"
   ]
  },
  {
   "cell_type": "code",
   "execution_count": null,
   "metadata": {
    "colab": {
     "base_uri": "https://localhost:8080/",
     "height": 658
    },
    "id": "29duFC2fNjwQ",
    "outputId": "a5de8cbc-2159-41a9-8454-a5d911522acb"
   },
   "outputs": [],
   "source": [
    "size = 200\n",
    "zero_m = np.zeros((size, size))\n",
    "T = 30\n",
    "EE = np.zeros((3 * size,T))\n",
    "for count in range(T):\n",
    "  A = random_semicircle(size)\n",
    "  B = random_semicircle(size)\n",
    "  C = random_semicircle(size)\n",
    "  S = np.block([[A, B, C], [B, A, B], [C, B, A]])\n",
    "  #la.norm(S - np.conj(S.T))\n",
    "  e = la.eigvalsh(S)\n",
    "  EE[:,count] = e\n",
    "\n",
    "EE = EE.reshape(-1)\n",
    "\n",
    "#plt.plot(EE)\n",
    "\n",
    "plt.figure()\n",
    "# Plot histogram with density\n",
    "plt.hist(EE, bins=30, density=True, edgecolor='black', alpha=0.6, label=\"Histogram\")\n",
    "# Plot theoretical density curve\n",
    "plt.plot(XX, f, color='red', label=\"Theoretical Density\")\n",
    "\n",
    "# Add labels and legend\n",
    "plt.title(\"Histogram with Theoretical Density Curve\")\n",
    "plt.xlabel(\"Values\")\n",
    "plt.ylabel(\"Density\")\n",
    "plt.legend()\n"
   ]
  },
  {
   "cell_type": "markdown",
   "metadata": {
    "id": "_QD9NgLWoPn-"
   },
   "source": [
    "## Example 3a: This is the matrix semicircle that arises in the study of the anti-commutator"
   ]
  },
  {
   "cell_type": "markdown",
   "metadata": {
    "id": "LqjG_ByspdS8"
   },
   "source": [
    "Here we will be interested in the matrix\n",
    "$$\n",
    "S =  \\begin{bmatrix} 0 & X_1 & X_2 \\\\ X_1 & 0 & -1 \\\\ X_2 & -1 & 0 \\end{bmatrix},\n",
    "$$\n",
    "where $X_1$ and $X_2$ are two standard semicircular variables. In this case we have\n",
    "$$\n",
    "a_0 = \\begin{bmatrix} 0 & 0 & 0 \\\\ 0 & 0 & -1 \\\\ 0 & -1 & 0 \\end{bmatrix}, \\,\n",
    "a_1 = \\begin{bmatrix} 0 & 1 & 0 \\\\ 1 & 0 & 0 \\\\ 0 & 0 & 0 \\end{bmatrix}, \\,\n",
    "a_2 = \\begin{bmatrix} 0 & 0 & 1 \\\\ 0 & 0 & 0 \\\\ 1 & 0 & 0 \\end{bmatrix}.\n",
    "$$\n",
    "\n",
    "This example is significantly different from the previous example because the matrix semicirle variable has non-trivial expectation."
   ]
  },
  {
   "cell_type": "markdown",
   "metadata": {
    "id": "dcehraIpxxqD"
   },
   "source": [
    "First, we need to define an analogue of the hfs map, in order to be able to calculate the Cauchy transform $G_S(z) = G_{a_0 + X}$, where $X = a_1 \\otimes X_1 + a_2 \\otimes X_2$.\n",
    "For this we define $b = z(z I - a_0)^{-1}$ and define the map:\n",
    "$$\n",
    "G \\mapsto \\frac{1}{2}\\Big[G + [z I - b \\eta(G)]^{-1} b\\Big].\n",
    "$$\n",
    "This should be iterated to convergence."
   ]
  },
  {
   "cell_type": "markdown",
   "metadata": {
    "id": "mQrQJMBA4IA2"
   },
   "source": [
    "Next we define the function that calculates the density. This function is similar defined for the matrix semicircle without the bias term but it uses hsfb map instead of hsf map."
   ]
  },
  {
   "cell_type": "markdown",
   "metadata": {
    "id": "WS333ykW6Jyb"
   },
   "source": [
    "Let us plot density.\n",
    "While the result looks somewhat doubtful, however it is supported by numerical simulations."
   ]
  },
  {
   "cell_type": "code",
   "execution_count": null,
   "metadata": {
    "colab": {
     "base_uri": "https://localhost:8080/",
     "height": 786
    },
    "id": "sJwp4mHb1MOm",
    "outputId": "556a9f29-8459-4d1a-e42d-98dfff9b95e6"
   },
   "outputs": [],
   "source": [
    "#usage example\n",
    "A0 = np.array([[0, 0, 0], [0, 0, -1], [0, -1, 0]])\n",
    "A1 = np.array([[0, 1, 0], [1, 0, 0], [0, 0, 0]])\n",
    "A2 = np.array([[0, 0, 1], [0, 0, 0], [1, 0, 0]])\n",
    "print(A0)\n",
    "print(A1)\n",
    "print(A2)\n",
    "AA = (A1, A2)\n",
    "\n",
    "'''\n",
    "#checking convergence\n",
    "z = 1 + .01j\n",
    "n = 3\n",
    "G0 = 1/z * np.eye(n)\n",
    "G = hfsb_map(G0, z, A0, AA)\n",
    "print(G)\n",
    "max_iter = 1500\n",
    "diffs = np.zeros((max_iter, 1))\n",
    "for i in trange(max_iter):\n",
    "  G1 = hfsb_map(G, z, A0, AA)\n",
    "  diffs[i] = la.norm(G1 - G)\n",
    "  G = G1\n",
    "plt.plot(diffs)\n",
    "plt.yscale(\"log\")\n",
    "plt.title(\"Convergence of the method\")\n",
    "print(G)\n",
    "'''\n",
    "f = get_density_B(1., A0, AA)\n",
    "print(f)\n",
    "a = 4\n",
    "m = 100\n",
    "XX = np.linspace(-a, a, 200)\n",
    "f = np.zeros(XX.shape)\n",
    "for i, x in enumerate(XX):\n",
    "   f[i] = get_density_B(x, A0, AA)\n",
    "\n",
    "print(sum(f)*2*a/m) #just to check that the integral of the density is 1 (approximately)\n",
    "plt.plot(XX, f)\n",
    "plt.grid(True)"
   ]
  },
  {
   "cell_type": "markdown",
   "metadata": {
    "id": "SwFKapKm_-ay"
   },
   "source": [
    "Numerical check.\n",
    "\n",
    "It appears that the results of numeric simulations are in good agreement with my theoretical results."
   ]
  },
  {
   "cell_type": "code",
   "execution_count": null,
   "metadata": {
    "colab": {
     "base_uri": "https://localhost:8080/",
     "height": 658
    },
    "id": "omPm4m_z4-PZ",
    "outputId": "75fa4bd4-714a-4265-a78d-f51ebd6c3d9f"
   },
   "outputs": [],
   "source": [
    "size = 200\n",
    "zero_m = np.zeros((size, size))\n",
    "ones_m = np.eye(size)\n",
    "T = 30\n",
    "EE = np.zeros((3 * size,T))\n",
    "for count in range(T):\n",
    "  A = random_semicircle(size)\n",
    "  B = random_semicircle(size)\n",
    "  C = random_semicircle(size)\n",
    "  S = np.block([[zero_m, B, C], [B, zero_m, -ones_m], [C, -ones_m, zero_m]])\n",
    "  #print(la.norm(S - np.conj(S.T)))\n",
    "  e = la.eigvalsh(S)\n",
    "  EE[:,count] = e\n",
    "\n",
    "EE = EE.reshape(-1)\n",
    "\n",
    "#plt.plot(EE)\n",
    "\n",
    "plt.figure()\n",
    "# Plot histogram with density\n",
    "plt.hist(EE, bins=30, density=True, edgecolor='black', alpha=0.6, label=\"Histogram\")\n",
    "# Plot theoretical density curve\n",
    "plt.plot(XX, f, color='red', label=\"Theoretical Density\")\n",
    "\n",
    "# Add labels and legend\n",
    "plt.title(\"Histogram with Theoretical Density Curve\")\n",
    "plt.xlabel(\"Values\")\n",
    "plt.ylabel(\"Density\")\n",
    "plt.legend()"
   ]
  },
  {
   "cell_type": "markdown",
   "metadata": {
    "id": "V6qMhvDrD_ZO"
   },
   "source": [
    "## Example 3b: The eigenvalue distribution  of the anticommutator of two semicircle r.v.s. via the equation for the biased matrix semicircle."
   ]
  },
  {
   "cell_type": "markdown",
   "metadata": {
    "id": "BgCbttKP27Fm"
   },
   "source": [
    "In order to find this distribution, note that we need to calculate $G(z, b(z))$, where\n",
    "$$\n",
    "b_\\epsilon(z) = z(\\Lambda_\\epsilon(z) - a_0)^{-1},\n",
    "$$\n",
    "$\\epsilon > 0$ is a small regularization paremater, and\n",
    "$$\n",
    "\\Lambda_\\epsilon(z) := \\begin{bmatrix}\n",
    " z & 0 & \\ldots & 0 \\\\\n",
    "0 & i\\epsilon & \\ldots & 0 \\\\\n",
    "\\vdots & \\vdots & \\, & \\vdots \\\\\n",
    "0 & 0 & \\ldots & i\\epsilon\n",
    "\\end{bmatrix}.\n",
    "$$\n",
    "By definition,\n",
    "$$\n",
    "G(z, b) = m_0(b)z^{-1} + m_1(b) z^{-2} + m_2(b) z^{-3} + \\ldots,\n",
    "$$\n",
    "and $m_k(b)$ are moments:\n",
    "$$\n",
    "m_k(b) := E[b(Xb)^k] = E[bXb \\ldots Xb].\n",
    "$$\n",
    "\n",
    "Once $G(z, b(z))$ is calculated, we can calculate the Cauchy transform of the polynomial $p$ by using formula\n",
    "$$\n",
    "\\phi[(z - p)^{-1}] = \\lim_{\\epsilon \\to 0} \\Big[ G(z, b_\\epsilon(z)) \\Big]_{1,1}.\n",
    "$$\n",
    "\n",
    "\n",
    "Finally, we can extract the density by the Stieljes inversion formula.\n",
    "\n",
    "See the realization of the functions hsfc_map and get_density_C above."
   ]
  },
  {
   "cell_type": "code",
   "execution_count": null,
   "metadata": {
    "colab": {
     "base_uri": "https://localhost:8080/",
     "height": 909,
     "referenced_widgets": [
      "d3566fd7e0ae4a63a35b70017276746d",
      "743a9092e51746e683416684f7439f00",
      "9e59a587ea0144a895ee7ea1eb703410",
      "4b261915fc5542d9bac6ae37f72ec113",
      "7c454afe41a74cedbe6c39fef7cc9a00",
      "6d3c2b327f8f4b3eb8ecfc95bc0b9a7a",
      "c2c09c159cdf42508618dd5900700bc4",
      "2f33461237874a51bf353ab923b7c3b8",
      "780913dce72e433f8eb4e198866fa22e",
      "0d9857c879ff44dabd593735d1182386",
      "6fe81b63454f48e6b122dd73412a8041"
     ]
    },
    "id": "YvHJzI2963Lk",
    "outputId": "69bd909a-da9a-4ecf-dc43-2f9e081d6961"
   },
   "outputs": [],
   "source": [
    "#usage example\n",
    "A0 = np.array([[0, 0, 0], [0, 0, -1], [0, -1, 0]])\n",
    "A1 = np.array([[0, 1, 0], [1, 0, 0], [0, 0, 0]])\n",
    "A2 = np.array([[0, 0, 1], [0, 0, 0], [1, 0, 0]])\n",
    "print(A0)\n",
    "print(A1)\n",
    "print(A2)\n",
    "AA = (A1, A2)\n",
    "z = .5 + .01j\n",
    "n = 3\n",
    "G0 = 1/z * np.eye(n)\n",
    "G = hfsc_map(G0, z, A0, AA)\n",
    "print(G)\n",
    "\n",
    "max_iter = 200\n",
    "diffs = np.zeros((max_iter, 1))\n",
    "for i in trange(max_iter):\n",
    "  G1 = hfsc_map(G, z, A0, AA)\n",
    "  diffs[i] = la.norm(G1 - G)\n",
    "  G = G1\n",
    "plt.plot(diffs)\n",
    "plt.yscale(\"log\")\n",
    "plt.title(\"Convergence of the method\")\n",
    "print(G)"
   ]
  },
  {
   "cell_type": "code",
   "execution_count": null,
   "metadata": {
    "colab": {
     "base_uri": "https://localhost:8080/",
     "height": 650
    },
    "id": "e05GKTxC_dzR",
    "outputId": "4c5363cb-3018-4098-f704-07b3d58f723b"
   },
   "outputs": [],
   "source": [
    "f = get_density_C(1., A0, AA)\n",
    "print(f)\n",
    "a = 4\n",
    "m = 200\n",
    "XX = np.linspace(-a, a, m)\n",
    "f = np.zeros(XX.shape)\n",
    "for i, x in enumerate(XX):\n",
    "   f[i] = get_density_C(x, A0, AA)\n",
    "\n",
    "print(sum(f)*2*a/m) #just to check that the integral of the density is 1 (approximately)\n",
    "plt.plot(XX, f)\n",
    "plt.grid(True)\n",
    "\n",
    "get_density_C(.5, A0, AA)"
   ]
  },
  {
   "cell_type": "markdown",
   "metadata": {
    "id": "9Pvtvh76_q4y"
   },
   "source": [
    "And here is the numerical check:"
   ]
  },
  {
   "cell_type": "code",
   "execution_count": null,
   "metadata": {
    "colab": {
     "base_uri": "https://localhost:8080/",
     "height": 658
    },
    "id": "LldD8LvU_wiv",
    "outputId": "d7ad5805-9cc8-48a7-e6c9-a4d2c322a2cc"
   },
   "outputs": [],
   "source": [
    "size = 200\n",
    "zero_m = np.zeros((size, size))\n",
    "ones_m = np.eye(size)\n",
    "T = 30\n",
    "EE = np.zeros((size,T))\n",
    "for count in range(T):\n",
    "  A = random_semicircle(size)\n",
    "  B = random_semicircle(size)\n",
    "  e = la.eigvalsh(A @ B + B @ A)\n",
    "  EE[:,count] = e\n",
    "\n",
    "EE = EE.reshape(-1)\n",
    "\n",
    "plt.figure()\n",
    "# Plot histogram with density\n",
    "plt.hist(EE, bins=30, density=True, edgecolor='black', alpha=0.6, label=\"Histogram\")\n",
    "# Plot theoretical density curve\n",
    "plt.plot(XX, f, color='red', label=\"Theoretical Density\")\n",
    "\n",
    "# Add labels and legend\n",
    "plt.title(\"Histogram with Theoretical Density Curve\")\n",
    "plt.xlabel(\"Values\")\n",
    "plt.ylabel(\"Density\")\n",
    "plt.legend()"
   ]
  },
  {
   "cell_type": "markdown",
   "metadata": {
    "id": "YyvdmbN8VxXa"
   },
   "source": [
    "## Example 4: Anticommutator using subordination.\n"
   ]
  },
  {
   "cell_type": "markdown",
   "metadata": {
    "id": "EAvEqCDoV7R4"
   },
   "source": [
    "Here we replicate the results of the previous example by using the method of subordination functions from Belinschi-Mai-Speicher paper.\n",
    "\n",
    "\n",
    "The setup is the same.\n",
    "$$\n",
    "S =  \\begin{bmatrix} 0 & X_1 & X_2 \\\\ X_1 & 0 & -1 \\\\ X_2 & -1 & 0 \\end{bmatrix},\n",
    "$$\n",
    "where $X_1$ and $X_2$ are two standard semicircular variables. In this case we have\n",
    "$$\n",
    "a_0 = \\begin{bmatrix} 0 & 0 & 0 \\\\ 0 & 0 & -1 \\\\ 0 & -1 & 0 \\end{bmatrix}, \\,\n",
    "a_1 = \\begin{bmatrix} 0 & 1 & 0 \\\\ 1 & 0 & 0 \\\\ 0 & 0 & 0 \\end{bmatrix}, \\,\n",
    "a_2 = \\begin{bmatrix} 0 & 0 & 1 \\\\ 0 & 0 & 0 \\\\ 1 & 0 & 0 \\end{bmatrix}.\n",
    "$$\n",
    "However, we aim to calculate the matrix Cauchy transform differently."
   ]
  },
  {
   "cell_type": "markdown",
   "metadata": {
    "id": "QDQLwtj6K2Cd"
   },
   "source": [
    "The subordination method is based on finding the fixed point of the map\n",
    "$$\n",
    "w \\to h_y(h_x(w) + b) + b.\n",
    "$$\n",
    "where\n",
    "$$h_x(w) = F_x(w) - w = \\Big[G_x(w)\\Big]^{-1} - w\n",
    "$$\n",
    " and $h_y(w) = F_y(w) - w$.  ($x = a_1 \\otimes X_1$ and $y = a_2 \\otimes X_2$). This fixed point is the subordination function $\\omega_1(b)$ and the Cauchy transform of $x + y$ is given by $G_{x + y}(b) = G_x(\\omega_1(b))$. We want to a apply it to $b = \\Lambda_\\epsilon(z) - a_0$.\n",
    "\n",
    " The first thing to do is to calculate $G_x(w)$.\n",
    "\n"
   ]
  },
  {
   "cell_type": "markdown",
   "metadata": {
    "id": "1733Oy2AbDUA"
   },
   "source": [
    "### The most basic approach to calculation of the Cauchy transform $G(w)$ of $b \\otimes X$"
   ]
  },
  {
   "cell_type": "markdown",
   "metadata": {
    "id": "ZWSL4wrgms_F"
   },
   "source": [
    "In the basic approach we use the ingegral formula\n",
    "$$\n",
    "E\\Big[ (w - b \\otimes x)^{-1}\\Big] = \\lim_{\\epsilon \\to 0}\\frac{-1}{\\pi} \\int_R (w - t b)^{-1} \\Im (G_x(t + i\\epsilon))\\, dt.\n",
    "$$"
   ]
  },
  {
   "cell_type": "code",
   "execution_count": null,
   "metadata": {
    "colab": {
     "base_uri": "https://localhost:8080/",
     "height": 1000,
     "referenced_widgets": [
      "d03328c537214afaa4aca40c7a6584d9",
      "f58bc765fd6343b18102c81427a3c0f8",
      "dcd2b78f2b104da79914acd874de719b",
      "fa21c47f50304cbcb7b6995167a38694",
      "bd106eebe5a54bebb513c6e07d1c3a3f",
      "03662ccf1ad84c95b77932a82798ebaa",
      "a690a14fe74b484e9e42b65272ffc260",
      "a8591e2e7f6f433687bf4ee6ac5115f3",
      "585d556f6ff2446cb3b71f8f3c94b66d",
      "1e78fc401f5a4f42a77f041c17339e91",
      "b479beab223c4d98a602558d3c1dee44"
     ]
    },
    "id": "CPt_GJ1ubI6_",
    "outputId": "71e538da-9f22-4d27-cfe8-50d641f9c7bd"
   },
   "outputs": [],
   "source": [
    "A0 = np.array([[0, 0, 0], [0, 0, -1], [0, -1, 0]])\n",
    "A1 = np.array([[0, 1, 0], [1, 0, 0], [0, 0, 0]])\n",
    "A2 = np.array([[0, 0, 1], [0, 0, 0], [1, 0, 0]])\n",
    "A_test = np.array([[1, 0, 0], [0, 0, 0], [0, 0, 0]])\n",
    "print(A0)\n",
    "print(A1)\n",
    "print(A2)\n",
    "print(A_test)\n",
    "AA = (A1, A2)\n",
    "n = A0.shape[0]\n",
    "w = (0.5 + 0.1j) * np.eye(n)\n",
    "z = 0.01j\n",
    "print(la.inv(w - z * A_test))\n",
    "\n",
    "# Define the matrix-valued function\n",
    "def matrix_function(z, w, b):\n",
    "    \"\"\"Matrix-valued function of a complex variable z.\"\"\"\n",
    "    return -(1/np.pi) * la.inv(w - z * b) * np.imag(G_semicircle(z))\n",
    "\n",
    "print(\"test:\", matrix_function(z, w, A_test))\n",
    "\n",
    "# Define the real path and shift it slightly above the real line\n",
    "epsilon = 1e-3  # Small imaginary shift\n",
    "def shifted_path(x):\n",
    "    return x + 1j * epsilon\n",
    "\n",
    "# Integration limits\n",
    "al, au = -4, 4  # Example real integration limits\n",
    "\n",
    "# Perform the integration for each matrix entry\n",
    "def cauchy_matrix_semicircle_0(w, b):\n",
    "    w = np.asarray(w, dtype=np.complex128)  # Ensure input is treated as complex\n",
    "    matrix_size = matrix_function(0, w, b).shape  # Get the shape of the matrix\n",
    "    result = np.zeros(matrix_size, dtype=complex)  # Initialize result matrix\n",
    "    for i in range(matrix_size[0]):\n",
    "        for j in range(matrix_size[1]):\n",
    "            # Define the scalar function for the (i, j)-th entry\n",
    "            def scalar_function(x, w, b):\n",
    "                z = shifted_path(x)\n",
    "                return matrix_function(z, w, b)[i, j]\n",
    "\n",
    "            scalar_func_with_params = partial(scalar_function, w = w, b = b)\n",
    "            # Perform the numerical integration\n",
    "            integral_real, _ = quad(lambda x: scalar_func_with_params(x).real, al, au)\n",
    "            integral_imag, _ = quad(lambda x: scalar_func_with_params(x).imag, al, au)\n",
    "            result[i, j] = integral_real + 1j * integral_imag  # Save the result\n",
    "    return result\n",
    "\n",
    "def H_matrix_semicircle_0(w, A1, eps = 1E-8):\n",
    "  ''' This is the h function: h = G(w)^{-1} - w$ '''\n",
    "  return(la.inv(cauchy_matrix_semicircle_0(w, A1)) - w)\n",
    "\n",
    "\n",
    "# Compute the cauchy transform via integral\n",
    "result_matrix = cauchy_matrix_semicircle_0(w, A1)\n",
    "print(\"Resultant matrix G after integration:\")\n",
    "print(result_matrix)\n",
    "\n",
    "# Compute the h-function\n",
    "result_matrix = H_matrix_semicircle_0(w, A1)\n",
    "print(\"Resultant matrix H after integration:\")\n",
    "print(result_matrix)\n",
    "\n",
    "\n",
    "\n",
    "#Let us visualize the result:\n",
    "\n",
    "m = 10\n",
    "x = np.linspace(-2, 2, m)\n",
    "GG = np.zeros(m, dtype=np.complex128)\n",
    "for i in trange(m):\n",
    "  result = cauchy_matrix_semicircle_0((x[i]+ 0.1j) * np.eye(n), A1)\n",
    "  GG[i] = result[0, 0]\n",
    "plt.plot(np.imag(GG))\n",
    "print(GG)\n"
   ]
  },
  {
   "cell_type": "markdown",
   "metadata": {
    "id": "YAt1LKJjvdBu"
   },
   "source": [
    "Now we want to run the map\n",
    "$$\n",
    "w \\to h_y(h_x(w) + b) + b.\n",
    "$$\n",
    "to convergence. Again, we are interested in $b = \\Lambda_\\epsilon(z) - a_0$. This is supposed to give a subordination function $\\omega_1(b)$.\n",
    "\n",
    "Here we do have convergence alghough it is not particularly fast."
   ]
  },
  {
   "cell_type": "markdown",
   "metadata": {
    "id": "1PYCyCa_8Kja"
   },
   "source": [
    "Run the subordination functional mapping\n",
    "$$\n",
    "w \\to h_y(h_x(w) + b) + b.\n",
    "$$\n",
    " iteratively until convergence. Around 30 iterations is needed."
   ]
  },
  {
   "cell_type": "code",
   "execution_count": null,
   "metadata": {
    "colab": {
     "base_uri": "https://localhost:8080/",
     "height": 960,
     "referenced_widgets": [
      "ee6015f68883429fa76eca4a2c36222c",
      "3d7c90e17ed941119013005ea876a932",
      "2f27f92735f84796a86cedf5c42a0ac8",
      "33d74980a3094a259d4cf90db2ed23c1",
      "cea418fdcc464864bc7cf1df7c7111fc",
      "83cb0dd9a28e46e591a39c15d8f2ee43",
      "a99e4c2fa0124c54b8f23d1681adadc6",
      "19298082b0cb4d40928d9366357902d1",
      "76749c71f7c24cb5b85059297d5be120",
      "8a93abcaa435494aa34b2ea5fc4c797d",
      "bcc5c46f4b0847288ee10c5e55b84b8a"
     ]
    },
    "id": "HLyImwkLwZbd",
    "outputId": "e2cf3ce9-9bff-4ef8-f489-5c7cf1983517"
   },
   "outputs": [],
   "source": [
    "z = .5 + .01j\n",
    "n = 3\n",
    "B = Lambda(z, n) - A0\n",
    "print(B)\n",
    "\n",
    "W0 = 1.j * np.eye(n) #(initialization)\n",
    "print(W0)\n",
    "\n",
    "W1 = H_matrix_semicircle_0(W0, A1) + B\n",
    "W2 = H_matrix_semicircle_0(W1, A2) + B\n",
    "print(W2)\n",
    "\n",
    "max_iter = 30\n",
    "diffs = np.zeros((max_iter, 1))\n",
    "for i in trange(max_iter):\n",
    "  W1 = H_matrix_semicircle_0(W0, A1) + B\n",
    "  #print(\"W1 = \", W1)\n",
    "  W2 = H_matrix_semicircle_0(W1, A2) + B\n",
    "  #print(\"W2 = \", W2)\n",
    "  diffs[i] = la.norm(W2 - W0)\n",
    "  W0 = W2\n",
    "plt.plot(diffs)\n",
    "plt.yscale(\"log\")\n",
    "plt.title(\"Convergence of the method\")\n",
    "print(W0)"
   ]
  },
  {
   "cell_type": "markdown",
   "metadata": {
    "id": "gD86XmaK42Gh"
   },
   "source": [
    "Then we can compute $G_{x + y}(b)$ as $G_x(\\omega_1(b))$. Then we take $G_{11}$ and apply Stieltjes inversion formula. Theh number is more or less in agreement with what we seen in the method that avoided using subordination."
   ]
  },
  {
   "cell_type": "code",
   "execution_count": null,
   "metadata": {
    "colab": {
     "base_uri": "https://localhost:8080/"
    },
    "id": "xU-HQ4dm5D90",
    "outputId": "aadfb6f1-30a6-456e-ad40-a1200d98ec24"
   },
   "outputs": [],
   "source": [
    "-cauchy_matrix_semicircle_0(W0, A1)[0,0].imag/np.pi"
   ]
  },
  {
   "cell_type": "markdown",
   "metadata": {
    "id": "4523VFWPaqMz"
   },
   "source": [
    "### Here is the Cauchy transform of $a \\otimes X$ using regularization.\n",
    "It works OK. May be preferable since does not require specifying or estimating the rank of a."
   ]
  },
  {
   "cell_type": "markdown",
   "metadata": {
    "id": "n3sXF17LPGVT"
   },
   "source": [
    "We look for $E(w - a_1 \\otimes x_1)^{-1}$. We will regularize $a_1$ so that it is invertible.\n",
    "Then\n",
    "$$\n",
    " a_1^{-1} w = V \\begin{bmatrix}\n",
    " \\mu_1 & &  \\\\  &\\ddots & \\\\ & & \\mu_r\n",
    " \\end{bmatrix} V^{-1},\n",
    "$$\n",
    " and then\n",
    "\\begin{equation}\n",
    "%\\label{equ_matrix_G2}\n",
    " E \\big[(w - a_1\\otimes x_1)^{-1}\\big] =  E \\big[(a_1^{-1} w - I \\otimes x_1)^{-1}\\big] a_1^{-1} = V \\begin{bmatrix}G_x(\\mu_1) & &  \\\\  &\\ddots & \\\\ & & G_x(\\mu_r)\\end{bmatrix} V^{-1} a_1^{-1}.\n",
    " \\end{equation}\n"
   ]
  },
  {
   "cell_type": "code",
   "execution_count": null,
   "metadata": {
    "colab": {
     "base_uri": "https://localhost:8080/"
    },
    "id": "_b-IQQbdSBOy",
    "outputId": "0cd734b2-373e-43bb-ebd2-f91c61b9929f"
   },
   "outputs": [],
   "source": [
    "def cauchy_matrix_semicircle_1(w, A1, eps = 1E-8):\n",
    "  ''' This is function that computes the Cauchy transform of $A1 \\otimes X$, where\n",
    "  X is the standard semicirlce and A1 is an $n\\times n$ matrix. The argument is w,\n",
    "  so we calculate E(w - A1 \\otimes X)^{-1}. The parameter eps is for regularization to handle\n",
    "  the case when A1 is not inverible.'''\n",
    "  n = A1.shape[0]\n",
    "  mu, V = la.eig(la.inv(A1 + 1.j * eps * np.eye(n)) @ w)\n",
    "  return V @ np.diag(G_semicircle(mu)) @ la.inv(V) @ la.inv(A1 + 1.j * eps * np.eye(n))\n",
    "\n",
    "def H_matrix_semicircle_1(w, A1, eps = 1E-8):\n",
    "  ''' This is the h function: h = G(w)^{-1} - w$ '''\n",
    "  return(la.inv(Cauchy_matrix_semicircle_1(w, A1, eps)) - w)\n",
    "\n",
    "\n",
    "n = 2\n",
    "A1 = np.eye(n)\n",
    "A1 = np.array([[0, 1], [1, 0]])\n",
    "\n",
    "z = (0.0 + 0.01j)\n",
    "w = z * np.eye(n)\n",
    "\n",
    "#np.set_printoptions(precision=2)\n",
    "arr = Cauchy_matrix_semicircle_1(w, A1)\n",
    "print(arr)\n",
    "H_matrix_semicircle_1(w, A1)\n",
    "\n"
   ]
  },
  {
   "cell_type": "markdown",
   "metadata": {
    "id": "HGA31FssvZ4k"
   },
   "source": [
    "Let us do some checking."
   ]
  },
  {
   "cell_type": "code",
   "execution_count": null,
   "metadata": {
    "colab": {
     "base_uri": "https://localhost:8080/",
     "height": 935,
     "referenced_widgets": [
      "1adf6d64565d4bc88f94285521b50a20",
      "316a5d23b0344e2e9e8db51b5df284df",
      "cf69ef491b3d451eb2b1ffcff916c3af",
      "9eced7aef9f24eda8bcb9a1c5fc5b0e2",
      "a9018bc40f90482fa64036f9d8d5c641",
      "425edee5dc52402eb435023bbc0d476c",
      "95094ad644e7426a868f14d64ec4b118",
      "e89d203ce59f454dbdaab91be4d7b3a6",
      "a84c58986afb45f9be9849ef07d95d7a",
      "52dabd4a30d94cc9b075cdfabbca0592",
      "b7496f43508d4d679d5eeafb982e3820",
      "953aaf09747b4d5ca0f4cf56eb14e385",
      "c1f39de47d45498eacea2b63a25d8ec3",
      "36ba4f4960b0410a963a88c1fb181c1c",
      "ad0195b2ec884a8a8bee6a0017dfe747",
      "a60d9552f08c47c6b8f81d4fa986057d",
      "b8189437a1984297993a440d5f327039",
      "e064bc3d8d1845d1930637a2154c88db",
      "bfe2b6e00051428cbca48e225469799f",
      "b6240c3969ab439d8655314b893ee183",
      "af996b2d91ca4c84b8b5a399178bb34e",
      "4e2e5df6f8334a6c9a209be3862c48a3"
     ]
    },
    "id": "IYeOjHCF1YBz",
    "outputId": "41dd9368-1cd3-42a2-cf68-03d3adb596d6"
   },
   "outputs": [],
   "source": [
    "n = 2\n",
    "rank = 2\n",
    "A1 = np.eye(n)\n",
    "A1 = np.array([[0, 1], [1, 0]])\n",
    "\n",
    "#A0 = np.array([[0, 0, 0], [0, 0, -1], [0, -1, 0]])\n",
    "n = 3\n",
    "A1 = np.array([[0, 1, 0], [1, 0, 0], [0, 0, 0]])\n",
    "A1 = np.array([[0, 0, 1], [0, 0, 0], [1, 0, 0]])\n",
    "\n",
    "\n",
    "\n",
    "\n",
    "\n",
    "z = (0.0 + 1j)\n",
    "w = z * np.eye(n)\n",
    "\n",
    "G = cauchy_matrix_semicircle_0(w, A1)\n",
    "print(G)\n",
    "print('old appoach = \\n', cauchy_matrix_semicircle_0(w, A1))\n",
    "print(G_semicircle(z))\n",
    "\n",
    "#H = H_matrix_semicircle_0(w, A1, rank)\n",
    "#print(H)\n",
    "\n",
    "#Let us visualize the result:\n",
    "m = 10\n",
    "x = np.linspace(-2, 2, m)\n",
    "GG = np.zeros(m, dtype=np.complex128)\n",
    "for i in trange(m):\n",
    "  result = cauchy_matrix_semicircle_0((x[i]+ 0.1j) * np.eye(n), A1)\n",
    "  GG[i] = result[0, 0]\n",
    "plt.plot(np.imag(GG))\n",
    "print(GG)\n",
    "\n",
    "m = 10\n",
    "x = np.linspace(-2, 2, m)\n",
    "GG_new = np.zeros(m, dtype=np.complex128)\n",
    "for i in trange(m):\n",
    "  result = cauchy_matrix_semicircle_1((x[i]+ 0.1j) * np.eye(n), A1)\n",
    "  GG_new[i] = result[0, 0]\n",
    "plt.plot(np.imag(GG_new) + 0.01)\n",
    "print(GG_new)"
   ]
  },
  {
   "cell_type": "markdown",
   "metadata": {
    "id": "fOFO7iSGpbeO"
   },
   "source": [
    "### More sophisticated approach to the calculation of Cauchy transform $G(w)$ of $b \\otimes X$"
   ]
  },
  {
   "cell_type": "markdown",
   "metadata": {
    "id": "SIgWr_ZOqgyL"
   },
   "source": [
    " This was explained above, in the beginning of the notebook, where we listed the most basic functions.\n"
   ]
  },
  {
   "cell_type": "markdown",
   "metadata": {
    "id": "ALggm5Cr3WE-"
   },
   "source": [
    "The code below seems to indicate that $G(w)$ is the same as calculated by the brute-force method."
   ]
  },
  {
   "cell_type": "code",
   "execution_count": null,
   "metadata": {
    "colab": {
     "base_uri": "https://localhost:8080/",
     "height": 1000,
     "referenced_widgets": [
      "6eccd411fd25472dafeb5308c75097ee",
      "d3ea5668ced74859afc5ee9742f85deb",
      "fb94f8e79e8141e9a2e4f465f783e839",
      "e423e05a5f4d4232a9b44e600c64986d",
      "b0c54b23ee8f4ddba0b6e455b29a36ae",
      "daeebc2567a04e298554097e81e12bd6",
      "34ac9842f61148769d4be3259b365ebe",
      "708c9572c2b64e06a06a5e37e5cbfd29",
      "c25fa11db0c441f0acc43d8794b2d4ac",
      "13ffc023a296401a9e1675245ac62d17",
      "c714047eca194746a8a4baff5aa23953",
      "abb404b610ca4d2bb7e90d0463422900",
      "19f745a566d146fab056f0fb20c8e93f",
      "7dbf7e25db3e47ebbe42b4163068160c",
      "c60c753f67f74e63b7ae6aaa33418b7b",
      "d6935b321b454f268301a5ae1c0592a6",
      "171ea12b10f74e8480492cf8e0426ad9",
      "b81d6b4204714a7eb457f70cd447e610",
      "99bfcbea5e354cfbb6e2ee8f0c5c92ac",
      "66f319f1c3e640e7bda5e5f9f8b67aa7",
      "590d87e29fc04d09839cd6d3fe70f90e",
      "62ff6548a2404f479704b70e7b183f83",
      "9d2a61777e13477abd2f2dc9ed9b4021",
      "cd11439385c24abdbcb1524e6a5aa4c3",
      "5b478dddfa2d46029807f5040d43fc98",
      "b389be95c1914c4a8009017d750487e6",
      "3e1595171ddd4f79b0238936db037137",
      "31d41bb6f7144804afa6d40ccdc21827",
      "4a7d3287301443b2a203696590e7760c",
      "df996cd031c3444b904dd34ce53d0eee",
      "9f5599bb527748b8800926527c327f8d",
      "c0af5123255e48fc886c5999641390c8",
      "096886b3fcc844a99499cdcc1cce71e9",
      "17815cc62ec448f289b024d859a77f3a",
      "09e27330f6db49a5a98a16dfaa3d1188",
      "071b85155a52472ea28041a9fb6aec16",
      "814623c034e348ec83906b74087ed74a",
      "fbb2236fd2914d84a8a69d4ea4f883a5",
      "127c1af98ebb44a298c115cf5ab35252",
      "21bf663a974e4e068c48570433890275",
      "945390c2ccc240eea716850d2e3fcb85",
      "f0d249c1cd024042ba5d6e1e20115167",
      "e54a6bcdb3f14c9785d755c9e3327191",
      "4f17319bd92546ee9846519cb0f769ec"
     ]
    },
    "id": "kEgcB75bq8KE",
    "outputId": "f42b4836-ca14-4b70-87ea-9444f939a39a"
   },
   "outputs": [],
   "source": [
    "\n",
    "A1 = np.array([[0, 1, 0], [1, 0, 0], [0, 0, 0]])\n",
    "A1 = np.array([[0, 0, 1], [0, 0, 0], [1, 0, 0]])\n",
    "\n",
    "\n",
    "\n",
    "#Let us visualize the result:\n",
    "m = 10\n",
    "x = np.linspace(-2, 2, m)\n",
    "GG = np.zeros(m, dtype=np.complex128)\n",
    "for i in trange(m):\n",
    "  result = cauchy_matrix_semicircle_0((x[i]+ 0.1j) * np.eye(n), A1)\n",
    "  GG[i] = result[0, 0]\n",
    "plt.plot(np.imag(GG))\n",
    "print(GG)\n",
    "\n",
    "m = 10\n",
    "x = np.linspace(-2, 2, m)\n",
    "GG_new = np.zeros(m, dtype=np.complex128)\n",
    "for i in trange(m):\n",
    "  result = G_matrix_semicircle((x[i]+ 0.1j) * np.eye(n), A1, rank = 2)\n",
    "  GG_new[i] = result[0, 0]\n",
    "plt.plot(np.imag(GG_new) + 0.01)\n",
    "print(GG_new)\n",
    "\n",
    "plt.figure()\n",
    "\n",
    "m = 10\n",
    "x = np.linspace(-2, 2, m)\n",
    "HH = np.zeros(m, dtype=np.complex128)\n",
    "for i in trange(m):\n",
    "  result = H_matrix_semicircle_0((x[i]+ 0.1j) * np.eye(n), A1)\n",
    "  HH[i] = result[0, 0]\n",
    "plt.plot(np.imag(HH))\n",
    "print(HH)\n",
    "\n",
    "m = 10\n",
    "x = np.linspace(-2, 2, m)\n",
    "HH_new = np.zeros(m, dtype=np.complex128)\n",
    "for i in trange(m):\n",
    "  result = H_matrix_semicircle((x[i]+ 0.1j) * np.eye(n), A1, rank = 2)\n",
    "  HH_new[i] = result[0, 0]\n",
    "plt.plot(np.imag(HH_new) + 0.01)\n",
    "print(HH_new)\n",
    "\n"
   ]
  },
  {
   "cell_type": "markdown",
   "metadata": {
    "id": "qbebkjjANfOb"
   },
   "source": [
    "### Matrix Subordination Function"
   ]
  },
  {
   "cell_type": "markdown",
   "metadata": {
    "id": "jJOfW-dTAf_4"
   },
   "source": [
    "Let us get the subordination function. Recall that $\\omega_1(b)$ is the fixed point of the map\n",
    "$$\n",
    "w \\to h_y(h_x(w) + b) + b.\n",
    "$$\n",
    "where $h_x(w) = F_x(w) - w$ and $h_y(w) = F_y(w) - w$, and $F_x, F_y$ are inverses of the corresponding Cauchy transforms.\n",
    "\n",
    "Given that $\\omega_1(b)$ is calculated, we can find the Cauchy transform for the sum $x + y$ as\n",
    "$$\n",
    "G_{x + y}(b) = G_x(\\omega_1(b)).\n",
    "$$\n",
    "\n",
    "We realize $\\omega_1(b)$ as a function $\\omega\\big(b, (x, y)\\big)$.\n"
   ]
  },
  {
   "cell_type": "markdown",
   "metadata": {
    "id": "rtHGltS8-X02"
   },
   "source": [
    "First, let us check convergence of the method here."
   ]
  },
  {
   "cell_type": "code",
   "execution_count": null,
   "metadata": {
    "colab": {
     "base_uri": "https://localhost:8080/",
     "height": 960,
     "referenced_widgets": [
      "9afece2bfe9646e586742377644241a1",
      "25eb43d85c8d4e0fb67ac42d01f0ea16",
      "049878eb395a43ca8e006b6b0db7e20a",
      "27549111a8744cce875abc16b6ef5d54",
      "891e427e8c0b4f0084c4f78f3d971b3b",
      "ca40dc619db241a7800502e5ec3c1e88",
      "81898d27b6944b86ade77767e85b4ed7",
      "abae26c1b1654746b7c1200a94acd640",
      "e9c8e6f7601f45b8a00450b7a980010a",
      "816a3147dfc94b239c85a4a3af9a6952",
      "af97d57f85e240b9b5945030caf0270f"
     ]
    },
    "id": "WSOBlAwJAvmD",
    "outputId": "12f77a9b-3429-4708-c5c4-715a710a5231"
   },
   "outputs": [],
   "source": [
    "def Lambda(z, size, eps = 1E-6):\n",
    "  A = eps * 1.j * np.eye(size)\n",
    "  A[0, 0] = z\n",
    "  return A\n",
    "\n",
    "A0 = np.array([[0, 0, 0], [0, 0, -1], [0, -1, 0]])\n",
    "A1 = np.array([[0, 1, 0], [1, 0, 0], [0, 0, 0]])\n",
    "A2 = np.array([[0, 0, 1], [0, 0, 0], [1, 0, 0]])\n",
    "print(A0)\n",
    "print(A1)\n",
    "print(A2)\n",
    "AA = (A1, A2)\n",
    "n = A0.shape[0]\n",
    "\n",
    "z = .5 + .01j\n",
    "B = Lambda(z, n) - A0\n",
    "print(B)\n",
    "\n",
    "\n",
    "W0 = 1.j * np.eye(n) #(initialization)\n",
    "  #print(W0)\n",
    "A1 = AA[0]\n",
    "A2 = AA[1]\n",
    "  #W1 = H_matrix_semicircle(W0, A1, rank = 2) + B\n",
    "  #W2 = H_matrix_semicircle(W1, A2, rank = 2) + B\n",
    "  #print(W2)\n",
    "max_iter = 40\n",
    "diffs = np.zeros((max_iter, 1))\n",
    "for i in trange(max_iter):\n",
    "  W1 = H_matrix_semicircle(W0, A1, rank = 2) + B\n",
    "  #print(\"W1 = \", W1)\n",
    "  W2 = H_matrix_semicircle(W1, A2, rank = 2) + B\n",
    "  #print(\"W2 = \", W2)\n",
    "  diffs[i] = la.norm(W2 - W0)\n",
    "  W0 = W2\n",
    "plt.plot(diffs)\n",
    "plt.yscale(\"log\")\n",
    "plt.title(\"Convergence of the method\")\n",
    "print(W0)"
   ]
  },
  {
   "cell_type": "markdown",
   "metadata": {
    "id": "d4KI7eRANwk7"
   },
   "source": [
    "Now we define the subordination function $\\omega_1(b) = \\omega\\big(b, (a_1, a_2)\\big)$."
   ]
  },
  {
   "cell_type": "code",
   "execution_count": null,
   "metadata": {
    "colab": {
     "base_uri": "https://localhost:8080/",
     "height": 616
    },
    "id": "Yhcklqor-T_v",
    "outputId": "32161c3c-4e6c-424b-a38d-79580c3ec74d"
   },
   "outputs": [],
   "source": [
    "#See the definition of the function in the beginning of the notebook\n",
    "\n",
    "#let us do some visualization\n",
    "m = 50\n",
    "tt = np.linspace(-2, 2, m)\n",
    "om = np.zeros((m, 1), dtype = np.complex128)\n",
    "for i in range(m):\n",
    "  om[i] = omega(Lambda(tt[i] + 0.01j, n) - A0, (AA), rank = (2,2))[0,0]\n",
    "#print(om)\n",
    "plt.plot(np.imag(om))\n",
    "plt.plot(np.real(om))"
   ]
  },
  {
   "cell_type": "markdown",
   "metadata": {
    "id": "kOT6Qv39OndF"
   },
   "source": [
    "### Calculating the density of the anticommutator."
   ]
  },
  {
   "cell_type": "markdown",
   "metadata": {
    "id": "X7GIg-fk6-az"
   },
   "source": [
    "Now our goal is to write the function that would compute density of the anticommutator at a given point."
   ]
  },
  {
   "cell_type": "code",
   "execution_count": null,
   "metadata": {
    "colab": {
     "base_uri": "https://localhost:8080/",
     "height": 633
    },
    "id": "JJPX8VT3Btku",
    "outputId": "fc1d4831-d6b2-4ee9-e861-4ca5a82f5d50"
   },
   "outputs": [],
   "source": [
    "def get_density_anticommutator(x, eps = 0.01):\n",
    "  A0 = np.array([[0, 0, 0], [0, 0, -1], [0, -1, 0]])\n",
    "  A1 = np.array([[0, 1, 0], [1, 0, 0], [0, 0, 0]])\n",
    "  A2 = np.array([[0, 0, 1], [0, 0, 0], [1, 0, 0]])\n",
    "  AA = (A1, A2)\n",
    "  n = A0.shape[0]\n",
    "  z = x + eps * 1j\n",
    "  B = Lambda(z, n) - A0\n",
    "  Gxy = G_matrix_semicircle(omega(B, AA, rank = (2, 2)), A1, rank = 2)\n",
    "  f = (-1/np.pi) * Gxy[0,0].imag\n",
    "  return f\n",
    "\n",
    "x = .5\n",
    "f = get_density_anticommutator(x)\n",
    "print(f)\n",
    "\n",
    "#visualization\n",
    "m = 50\n",
    "a = 4\n",
    "XX = np.linspace(-a, a, m)\n",
    "f = np.zeros(XX.shape)\n",
    "for i, x in enumerate(XX):\n",
    "   f[i] = get_density_anticommutator(x)\n",
    "\n",
    "print(sum(f)*2*a/m) #just to check that the integral of the density is 1 (approximately)\n",
    "plt.plot(XX, f)\n",
    "plt.grid(True)"
   ]
  },
  {
   "cell_type": "markdown",
   "metadata": {
    "id": "evoXFChJF5o0"
   },
   "source": [
    "And the numerical check."
   ]
  },
  {
   "cell_type": "code",
   "execution_count": null,
   "metadata": {
    "colab": {
     "base_uri": "https://localhost:8080/",
     "height": 658
    },
    "id": "Xu0UqULRF73G",
    "outputId": "b2c4f9e3-b6a7-43ca-ea3c-122a51fc7281"
   },
   "outputs": [],
   "source": [
    "size = 200\n",
    "zero_m = np.zeros((size, size))\n",
    "ones_m = np.eye(size)\n",
    "T = 30\n",
    "EE = np.zeros((size,T))\n",
    "for count in range(T):\n",
    "  A = random_semicircle(size)\n",
    "  B = random_semicircle(size)\n",
    "  e = la.eigvalsh(A @ B + B @ A)\n",
    "  EE[:,count] = e\n",
    "\n",
    "EE = EE.reshape(-1)\n",
    "\n",
    "plt.figure()\n",
    "# Plot histogram with density\n",
    "plt.hist(EE, bins=30, density=True, edgecolor='black', alpha=0.6, label=\"Histogram\")\n",
    "# Plot theoretical density curve\n",
    "plt.plot(XX, f, color='red', label=\"Theoretical Density\")\n",
    "\n",
    "# Add labels and legend\n",
    "plt.title(\"Histogram with Theoretical Density Curve\")\n",
    "plt.xlabel(\"Values\")\n",
    "plt.ylabel(\"Density\")\n",
    "plt.legend()"
   ]
  },
  {
   "cell_type": "markdown",
   "metadata": {
    "id": "_wAQk0q609Cy"
   },
   "source": [
    "## Example 4b. Anticommutator of Poisson r.v.s."
   ]
  },
  {
   "cell_type": "markdown",
   "metadata": {
    "id": "XWatj75-LqlS"
   },
   "source": [
    "In this example, $X$ and $Y$ are free Poisson with parameters $\\lambda_1$ and $\\lambda_2$. We want to calculate their anticommutator. Here we are forced to use the subordination method."
   ]
  },
  {
   "cell_type": "markdown",
   "metadata": {
    "id": "Tn8vpQ2jbrgc"
   },
   "source": [
    "We havd defined the matrix version of the Cauchy transform for the free Poisson random variable $b \\otimes x$ (see above). Here we do some visualization."
   ]
  },
  {
   "cell_type": "code",
   "execution_count": null,
   "metadata": {
    "colab": {
     "base_uri": "https://localhost:8080/",
     "height": 1000,
     "referenced_widgets": [
      "242432793ba543e7bdbe900d6f17f76d",
      "6a6f5b806bc848808029351639de1708",
      "f5ed9e5868824443ae4627aa343f21a4",
      "23c5ea4116ad4d00ad56912f63e71177",
      "e36a72bf4a9d4902b9ea446f32be9e56",
      "4b9c65b5260e4a08999410b1f0243020",
      "d0e73b8f32604621994a91aaaa6a907d",
      "a0a3401b142a46a6a7a56b2e7e2cc094",
      "1a9fe0a5ba6640f589baaccbc975f8b6",
      "ac8c91fcfc6b4c71b948e4545c6a347c",
      "e1bb56fa2cea4ecbb98b411e68a0f496"
     ]
    },
    "id": "UZlPzATjbqgo",
    "outputId": "45d15c6b-c9b5-4755-d932-eb06f80a35ce"
   },
   "outputs": [],
   "source": [
    "n = 3\n",
    "lambda_param = 4\n",
    "A1 = np.array([[0, 0, 1], [0, 0, 0], [1, 0, 0]])\n",
    "rank = 2\n",
    "z = (0.0 + 1j)\n",
    "w = z * np.eye(n)\n",
    "\n",
    "G = G_matrix_fpoisson(w, A1, rank, lambda_param)\n",
    "print(\"G_matrix_fpoisson = \", G)\n",
    "\n",
    "\n",
    "A1 = np.array([[0, 1, 0], [1, 0, 0], [0, 0, 0]])\n",
    "#A1 = np.array([[0, 0, 1], [0, 0, 0], [1, 0, 0]])\n",
    "m = 100\n",
    "x = np.linspace(-2, 2, m)\n",
    "GG_new = np.zeros(m, dtype=np.complex128)\n",
    "for i in trange(m):\n",
    "  result = H_matrix_fpoisson((x[i]+ 0.1j) * np.eye(n), A1, rank = 2, lambda_param = 0.5)\n",
    "  GG_new[i] = result[0, 0]\n",
    "plt.plot(np.imag(GG_new) + 0.01)\n",
    "print(GG_new)"
   ]
  },
  {
   "cell_type": "markdown",
   "metadata": {
    "id": "GyL30nEJe5x3"
   },
   "source": [
    "Now we want to use the the general purpose subordination function omega_sub."
   ]
  },
  {
   "cell_type": "code",
   "execution_count": null,
   "metadata": {
    "colab": {
     "base_uri": "https://localhost:8080/"
    },
    "id": "3K8ExOocgT9U",
    "outputId": "3c7e5b7c-43f2-45a4-f193-6e462fa5a8d9"
   },
   "outputs": [],
   "source": [
    "#an example\n",
    "A0 = np.array([[0, 0, 0], [0, 0, -1], [0, -1, 0]])\n",
    "A1 = np.array([[0, 1, 0], [1, 0, 0], [0, 0, 0]])\n",
    "A2 = np.array([[0, 0, 1], [0, 0, 0], [1, 0, 0]])\n",
    "print(A0)\n",
    "print(A1)\n",
    "print(A2)\n",
    "AA = (A1, A2)\n",
    "n = A0.shape[0]\n",
    "\n",
    "z = .5 + .01j\n",
    "B = Lambda(z, n) - A0\n",
    "print(B)\n",
    "\n",
    "result = omega_sub(B, (A1, A2), rank = (2,2), H1_name = \"H_matrix_fpoisson\",\n",
    "                   H2_name = \"H_matrix_fpoisson\",\n",
    "                   H1_kwargs={\"lambda_param\":4},\n",
    "                   H2_kwargs={\"lambda_param\":4})"
   ]
  },
  {
   "cell_type": "code",
   "execution_count": null,
   "metadata": {
    "colab": {
     "base_uri": "https://localhost:8080/",
     "height": 616
    },
    "id": "TeQAY9xeZvK_",
    "outputId": "f8bfca1e-70d3-404f-80c7-49ce9c85d738"
   },
   "outputs": [],
   "source": [
    "#let us do some visualization\n",
    "m = 50\n",
    "tt = np.linspace(1, 9, m)\n",
    "om = np.zeros((m, 1), dtype = np.complex128)\n",
    "for i in range(m):\n",
    "  B = Lambda(tt[i] + 0.01j, n) - A0\n",
    "  om[i] = omega_sub(B, (A1, A2), rank = (2,2), H1_name = \"H_matrix_fpoisson\",\n",
    "                   H2_name = \"H_matrix_fpoisson\",\n",
    "                   H1_kwargs={\"lambda_param\":4},\n",
    "                   H2_kwargs={\"lambda_param\":4})[0,0]\n",
    "#print(om)\n",
    "plt.plot(tt, np.imag(om))\n",
    "plt.plot(tt, np.real(om))"
   ]
  },
  {
   "cell_type": "markdown",
   "metadata": {
    "id": "-v9w3-P3axOG"
   },
   "source": [
    "Now let us try to calculate the density of the anticommutator."
   ]
  },
  {
   "cell_type": "code",
   "execution_count": null,
   "metadata": {
    "colab": {
     "base_uri": "https://localhost:8080/",
     "height": 650
    },
    "id": "VPZw_n0LbG2F",
    "outputId": "dfddf313-ddbf-4f69-df98-e28df190b8bf"
   },
   "outputs": [],
   "source": [
    "def get_density_anticommutator_fpoisson(x, lambda_param, eps = 0.01):\n",
    "  A0 = np.array([[0, 0, 0], [0, 0, -1], [0, -1, 0]])\n",
    "  A1 = np.array([[0, 1, 0], [1, 0, 0], [0, 0, 0]])\n",
    "  A2 = np.array([[0, 0, 1], [0, 0, 0], [1, 0, 0]])\n",
    "  AA = (A1, A2)\n",
    "  n = A0.shape[0]\n",
    "  z = x + eps * 1j\n",
    "  B = Lambda(z, n) - A0\n",
    "  om = omega_sub(B, (A1, A2), rank = (2,2), H1_name = \"H_matrix_fpoisson\",\n",
    "                   H2_name = \"H_matrix_fpoisson\",\n",
    "                   H1_kwargs={\"lambda_param\":lambda_param},\n",
    "                   H2_kwargs={\"lambda_param\":lambda_param})\n",
    "  Gxy = G_matrix_fpoisson(om, A1, rank = 2, lambda_param = lambda_param)\n",
    "  f = (-1/np.pi) * Gxy[0,0].imag\n",
    "  return f\n",
    "\n",
    "x = 4\n",
    "f = get_density_anticommutator_fpoisson(x, lambda_param = 4)\n",
    "print(f)\n",
    "\n",
    "#visualization\n",
    "\n",
    "m = 50\n",
    "al = 2\n",
    "au = 105\n",
    "lambda_param = 4\n",
    "XX = np.linspace(al, au, m)\n",
    "f = np.zeros(XX.shape)\n",
    "for i, x in enumerate(XX):\n",
    "   f[i] = get_density_anticommutator_fpoisson(x,lambda_param)\n",
    "\n",
    "print(sum(f)*(au - al)/m) #just to check that the integral of the density is 1 (approximately)\n",
    "plt.plot(XX, f)\n",
    "plt.grid(True)\n",
    "\n",
    "\n",
    "expect = sum(XX * f)*(au - al)/m\n",
    "print(\"expectation = \", expect)\n",
    "\n",
    "#g = - G_free_poisson(XX + .01j, 100).imag/(np.pi)\n",
    "#plt.plot(XX, g)\n"
   ]
  },
  {
   "cell_type": "markdown",
   "metadata": {
    "id": "STMmUN0wL7FJ"
   },
   "source": [
    "Numerical check:"
   ]
  },
  {
   "cell_type": "markdown",
   "metadata": {
    "id": "vLhEN1cvPNg1"
   },
   "source": [
    "Finding the distribution of the anti-commutator of the free Poisson r.v.s by using large random matrices."
   ]
  },
  {
   "cell_type": "code",
   "execution_count": null,
   "metadata": {
    "colab": {
     "base_uri": "https://localhost:8080/",
     "height": 658
    },
    "id": "lBtg0fdcPLGR",
    "outputId": "25e3b1d3-a6a0-4194-fa0f-fa4821729beb"
   },
   "outputs": [],
   "source": [
    "size = 200\n",
    "lam = 4\n",
    "zero_m = np.zeros((size, size))\n",
    "ones_m = np.eye(size)\n",
    "T = 30\n",
    "EE = np.zeros((size,T))\n",
    "for count in range(T):\n",
    "  A = random_fpoisson(size, lam)\n",
    "  B = random_fpoisson(size, lam)\n",
    "  e = la.eigvalsh(A @ B + B @ A)\n",
    "  EE[:,count] = e\n",
    "\n",
    "EE = EE.reshape(-1)\n",
    "\n",
    "plt.figure()\n",
    "# Plot histogram with density\n",
    "plt.hist(EE, bins=30, density=True, edgecolor='black', alpha=0.6, label=\"Histogram\")\n",
    "# Plot theoretical density curve\n",
    "plt.plot(XX, f, color='red', label=\"Theoretical Density\")\n",
    "\n",
    "# Add labels and legend\n",
    "plt.title(\"Histogram with Theoretical Density Curve\")\n",
    "plt.xlabel(\"Values\")\n",
    "plt.ylabel(\"Density\")\n",
    "plt.legend()"
   ]
  },
  {
   "cell_type": "markdown",
   "metadata": {
    "id": "Q9ALv2FEj7wc"
   },
   "source": [
    "## Example 4c: Anticommutator of a semicircle and a free Poisson r.v.s"
   ]
  },
  {
   "cell_type": "markdown",
   "metadata": {
    "id": "lFTVxXpAkOoR"
   },
   "source": [
    "Let us use the subordination function for this pair."
   ]
  },
  {
   "cell_type": "code",
   "execution_count": null,
   "metadata": {
    "colab": {
     "base_uri": "https://localhost:8080/"
    },
    "id": "tt_W52iJL9QV",
    "outputId": "0966dd4e-7664-484d-815c-8f0f29d9fe1b"
   },
   "outputs": [],
   "source": [
    "#an example\n",
    "A0 = np.array([[0, 0, 0], [0, 0, -1], [0, -1, 0]])\n",
    "A1 = np.array([[0, 1, 0], [1, 0, 0], [0, 0, 0]])\n",
    "A2 = np.array([[0, 0, 1], [0, 0, 0], [1, 0, 0]])\n",
    "print(A0)\n",
    "print(A1)\n",
    "print(A2)\n",
    "AA = (A1, A2)\n",
    "n = A0.shape[0]\n",
    "\n",
    "z = .5 + .01j\n",
    "B = Lambda(z, n) - A0\n",
    "print(B)\n",
    "\n",
    "result = omega_sub(B, (A1, A2), rank = (2,2), H1_name = \"H_matrix_semicircle\",\n",
    "                   H2_name = \"H_matrix_fpoisson\",\n",
    "                   H1_kwargs={},\n",
    "                   H2_kwargs={\"lambda_param\":4})"
   ]
  },
  {
   "cell_type": "code",
   "execution_count": null,
   "metadata": {
    "colab": {
     "base_uri": "https://localhost:8080/",
     "height": 633
    },
    "id": "SS45MJM3k4JI",
    "outputId": "e58989d1-b8f0-4064-af3d-4d7a24ee62aa"
   },
   "outputs": [],
   "source": [
    "def get_density_anticommutator_S_FP(x, lambda_param, eps = 0.01):\n",
    "  '''calculates the density of the anticommutator of a semicircle and\n",
    "  a free poisson r.v. with parameter lambda_param'''\n",
    "  A0 = np.array([[0, 0, 0], [0, 0, -1], [0, -1, 0]])\n",
    "  A1 = np.array([[0, 1, 0], [1, 0, 0], [0, 0, 0]])\n",
    "  A2 = np.array([[0, 0, 1], [0, 0, 0], [1, 0, 0]])\n",
    "  AA = (A1, A2)\n",
    "  n = A0.shape[0]\n",
    "  z = x + eps * 1j\n",
    "  B = Lambda(z, n) - A0\n",
    "  om = omega_sub(B, (A1, A2), rank = (2,2), H1_name = \"H_matrix_semicircle\",\n",
    "                   H2_name = \"H_matrix_fpoisson\",\n",
    "                   H1_kwargs={},\n",
    "                   H2_kwargs={\"lambda_param\":lambda_param})\n",
    "  Gxy = G_matrix_semicircle(om, A1, rank = 2)\n",
    "  f = (-1/np.pi) * Gxy[0,0].imag\n",
    "  return f\n",
    "\n",
    "x = 4\n",
    "f = get_density_anticommutator_fpoisson(x, lambda_param = 4)\n",
    "print(f)\n",
    "\n",
    "#visualization\n",
    "\n",
    "m = 50\n",
    "al = -20\n",
    "au = 20\n",
    "lambda_param = 4\n",
    "XX = np.linspace(al, au, m)\n",
    "f = np.zeros(XX.shape)\n",
    "for i, x in enumerate(XX):\n",
    "   f[i] = get_density_anticommutator_S_FP(x,lambda_param)\n",
    "\n",
    "print(sum(f)*(au - al)/m) #just to check that the integral of the density is 1 (approximately)\n",
    "plt.plot(XX, f)\n",
    "plt.grid(True)"
   ]
  },
  {
   "cell_type": "markdown",
   "metadata": {
    "id": "CcLRIM1mmldv"
   },
   "source": [
    "Numerical check"
   ]
  },
  {
   "cell_type": "code",
   "execution_count": null,
   "metadata": {
    "colab": {
     "base_uri": "https://localhost:8080/",
     "height": 658
    },
    "id": "wUO4pLcDmrGQ",
    "outputId": "57972871-8d04-4610-a358-427b728ec4d6"
   },
   "outputs": [],
   "source": [
    "size = 200\n",
    "lam = 4\n",
    "zero_m = np.zeros((size, size))\n",
    "ones_m = np.eye(size)\n",
    "T = 30\n",
    "EE = np.zeros((size,T))\n",
    "for count in range(T):\n",
    "  A = random_semicircle(size)\n",
    "  B = random_fpoisson(size, lam)\n",
    "  e = la.eigvalsh(A @ B + B @ A)\n",
    "  EE[:,count] = e\n",
    "\n",
    "EE = EE.reshape(-1)\n",
    "\n",
    "plt.figure()\n",
    "# Plot histogram with density\n",
    "plt.hist(EE, bins=30, density=True, edgecolor='black', alpha=0.6, label=\"Histogram\")\n",
    "# Plot theoretical density curve\n",
    "plt.plot(XX, f, color='red', label=\"Theoretical Density\")\n",
    "\n",
    "# Add labels and legend\n",
    "plt.title(\"Histogram with Theoretical Density Curve\")\n",
    "plt.xlabel(\"Values\")\n",
    "plt.ylabel(\"Density\")\n",
    "plt.legend()"
   ]
  },
  {
   "cell_type": "markdown",
   "metadata": {
    "id": "mpZNdxHZZ87d"
   },
   "source": [
    "## Example 5: Deformed anticommutator"
   ]
  },
  {
   "cell_type": "markdown",
   "metadata": {
    "id": "aHRdz6x1aJu8"
   },
   "source": [
    "Here we consider the deformed anticommutator\n",
    "$$\n",
    "p(X, Y) = X Y + Y X + X^2\n",
    "$$\n",
    "(This is an example 5.2 from Belinschi-Mai-Speicher 2013).\n",
    "\n",
    "This polynomial has a nice linearization:\n",
    "$$\n",
    "L = \\begin{bmatrix}\n",
    "0 & X & \\frac{1}{2}X + Y \\\\\n",
    "X & 0 & -1 \\\\\n",
    "\\frac{1}{2}X + Y & - 1 & 0\n",
    "\\end{bmatrix}\n",
    "=  \\begin{bmatrix}\n",
    "0 & 0 & 0 \\\\\n",
    "0 & 0 & -1 \\\\\n",
    "0 & - 1 & 0\n",
    "\\end{bmatrix} +\n",
    "\\begin{bmatrix}\n",
    "0 & 1 & \\frac{1}{2} \\\\\n",
    "1 & 0 & 0 \\\\\n",
    "\\frac{1}{2} & 0 & 0\n",
    "\\end{bmatrix} X +\n",
    "\\begin{bmatrix}\n",
    "0 & 0 &  1 \\\\\n",
    "0 & 0 & 0 \\\\\n",
    "1 & 0 & 0\n",
    "\\end{bmatrix} Y.\n",
    "$$"
   ]
  },
  {
   "cell_type": "markdown",
   "metadata": {
    "id": "JW-uxxCudf7x"
   },
   "source": [
    "### 5a. First we consider the situation when $X$ and $Y$ are free semicircles."
   ]
  },
  {
   "cell_type": "code",
   "execution_count": null,
   "metadata": {
    "colab": {
     "base_uri": "https://localhost:8080/",
     "height": 786
    },
    "id": "lv4VB86Wd_rQ",
    "outputId": "886ac8f5-8e17-4bed-f982-025141adb89b"
   },
   "outputs": [],
   "source": [
    "#usage example\n",
    "A0 = np.array([[0, 0, 0], [0, 0, -1], [0, -1, 0]])\n",
    "A1 = np.array([[0, 1, 1/2], [1, 0, 0], [1/2, 0, 0]])\n",
    "A2 = np.array([[0, 0, 1], [0, 0, 0], [1, 0, 0]])\n",
    "print(A0)\n",
    "print(A1)\n",
    "print(A2)\n",
    "AA = (A1, A2)\n",
    "f = get_density_C(1., A0, AA)\n",
    "print(f)\n",
    "al = -3\n",
    "au = 8\n",
    "m = 200\n",
    "XX = np.linspace(al, au, m)\n",
    "f = np.zeros(XX.shape)\n",
    "for i, x in enumerate(XX):\n",
    "   f[i] = get_density_C(x, A0, AA)\n",
    "\n",
    "print(sum(f)*(au - al)/m) #just to check that the integral of the density is 1 (approximately)\n",
    "plt.plot(XX, f)\n",
    "plt.grid(True)"
   ]
  },
  {
   "cell_type": "markdown",
   "metadata": {
    "id": "Pc_48kM2kH6e"
   },
   "source": [
    "Nymerical check:"
   ]
  },
  {
   "cell_type": "code",
   "execution_count": null,
   "metadata": {
    "colab": {
     "base_uri": "https://localhost:8080/",
     "height": 658
    },
    "id": "ZSTKSeKskMwZ",
    "outputId": "cf9f2d28-c237-4b58-84c3-a20c52306143"
   },
   "outputs": [],
   "source": [
    "size = 200\n",
    "zero_m = np.zeros((size, size))\n",
    "ones_m = np.eye(size)\n",
    "T = 30\n",
    "EE = np.zeros((size,T))\n",
    "for count in range(T):\n",
    "  A = random_semicircle(size)\n",
    "  B = random_semicircle(size)\n",
    "  e = la.eigvalsh(A @ B + B @ A + A @ A)\n",
    "  EE[:,count] = e\n",
    "\n",
    "EE = EE.reshape(-1)\n",
    "\n",
    "plt.figure()\n",
    "# Plot histogram with density\n",
    "plt.hist(EE, bins=30, density=True, edgecolor='black', alpha=0.6, label=\"Histogram\")\n",
    "# Plot theoretical density curve\n",
    "plt.plot(XX, f, color='red', label=\"Theoretical Density\")\n",
    "\n",
    "# Add labels and legend\n",
    "plt.title(\"Histogram with Theoretical Density Curve\")\n",
    "plt.xlabel(\"Values\")\n",
    "plt.ylabel(\"Density\")\n",
    "plt.legend()"
   ]
  },
  {
   "cell_type": "markdown",
   "metadata": {
    "id": "0C5vQGFTkWas"
   },
   "source": [
    "Now we repeat the calculation using the subordination method."
   ]
  },
  {
   "cell_type": "code",
   "execution_count": null,
   "metadata": {
    "colab": {
     "base_uri": "https://localhost:8080/",
     "height": 633
    },
    "id": "Q8CJid6Ik1rg",
    "outputId": "b405aeab-5466-4f92-9c81-77f721bffc79"
   },
   "outputs": [],
   "source": [
    "def get_density_anticommutator_deform(x, eps = 0.01):\n",
    "  A0 = np.array([[0, 0, 0], [0, 0, -1], [0, -1, 0]])\n",
    "  A1 = np.array([[0, 1, 1/2], [1, 0, 0], [1/2, 0, 0]])\n",
    "  A2 = np.array([[0, 0, 1], [0, 0, 0], [1, 0, 0]])\n",
    "  AA = (A1, A2)\n",
    "  n = A0.shape[0]\n",
    "  z = x + eps * 1j\n",
    "  B = Lambda(z, n) - A0\n",
    "  Gxy = G_matrix_semicircle(omega(B, AA, rank = (2, 2)), A1, rank = 2)\n",
    "  f = (-1/np.pi) * Gxy[0,0].imag\n",
    "  return f\n",
    "\n",
    "x = .5\n",
    "f = get_density_anticommutator_deform(x)\n",
    "print(f)\n",
    "\n",
    "#visualization\n",
    "m = 50\n",
    "al = -3\n",
    "au = 7\n",
    "XX = np.linspace(al, au, m)\n",
    "f = np.zeros(XX.shape)\n",
    "for i, x in enumerate(XX):\n",
    "   f[i] = get_density_anticommutator_deform(x)\n",
    "\n",
    "print(sum(f)*(au - al)/m) #just to check that the integral of the density is 1 (approximately)\n",
    "plt.plot(XX, f)\n",
    "plt.grid(True)"
   ]
  },
  {
   "cell_type": "markdown",
   "metadata": {
    "id": "5SwluocgrWc6"
   },
   "source": [
    "Numerical check:"
   ]
  },
  {
   "cell_type": "code",
   "execution_count": null,
   "metadata": {
    "colab": {
     "base_uri": "https://localhost:8080/",
     "height": 658
    },
    "id": "QVpeXrPtrZhz",
    "outputId": "24624e9c-3a65-4918-8fdd-c39cef1024df"
   },
   "outputs": [],
   "source": [
    "size = 200\n",
    "zero_m = np.zeros((size, size))\n",
    "ones_m = np.eye(size)\n",
    "T = 30\n",
    "EE = np.zeros((size,T))\n",
    "for count in range(T):\n",
    "  A = random_semicircle(size)\n",
    "  B = random_semicircle(size)\n",
    "  e = la.eigvalsh(A @ B + B @ A + A @ A)\n",
    "  EE[:,count] = e\n",
    "\n",
    "EE = EE.reshape(-1)\n",
    "\n",
    "plt.figure()\n",
    "# Plot histogram with density\n",
    "plt.hist(EE, bins=30, density=True, edgecolor='black', alpha=0.6, label=\"Histogram\")\n",
    "# Plot theoretical density curve\n",
    "plt.plot(XX, f, color='red', label=\"Theoretical Density\")\n",
    "\n",
    "# Add labels and legend\n",
    "plt.title(\"Histogram with Theoretical Density Curve\")\n",
    "plt.xlabel(\"Values\")\n",
    "plt.ylabel(\"Density\")\n",
    "plt.legend()"
   ]
  },
  {
   "cell_type": "markdown",
   "metadata": {
    "id": "PLaG67Ppn8J1"
   },
   "source": [
    "## Example 5b: Deformed anticommutator of the semicircle and the free Poisson."
   ]
  },
  {
   "cell_type": "markdown",
   "metadata": {
    "id": "Fdz69_OwoNgB"
   },
   "source": [
    "Here we will use $X$ -- semicircle and $Y$ -- free Poisson.  "
   ]
  },
  {
   "cell_type": "code",
   "execution_count": null,
   "metadata": {
    "colab": {
     "base_uri": "https://localhost:8080/",
     "height": 633
    },
    "id": "p78ElHbYoWMM",
    "outputId": "621a2c01-f937-42c4-e61a-ac36104204c1"
   },
   "outputs": [],
   "source": [
    "def get_density_anticommutator_deform_SFP(x, lambda_param, eps = 0.01):\n",
    "  A0 = np.array([[0, 0, 0], [0, 0, -1], [0, -1, 0]])\n",
    "  A1 = np.array([[0, 1, 1/2], [1, 0, 0], [1/2, 0, 0]])\n",
    "  A2 = np.array([[0, 0, 1], [0, 0, 0], [1, 0, 0]])\n",
    "  AA = (A1, A2)\n",
    "  n = A0.shape[0]\n",
    "  z = x + eps * 1j\n",
    "  B = Lambda(z, n) - A0\n",
    "  om = omega_sub(B, (A1, A2), rank = (2,2), H1_name = \"H_matrix_semicircle\",\n",
    "                   H2_name = \"H_matrix_fpoisson\",\n",
    "                   H1_kwargs={},\n",
    "                   H2_kwargs={\"lambda_param\":lambda_param})\n",
    "  Gxy = G_matrix_semicircle(om, A1, rank = 2)\n",
    "  f = (-1/np.pi) * Gxy[0,0].imag\n",
    "  return f\n",
    "\n",
    "x = .5\n",
    "lam = 4\n",
    "f = get_density_anticommutator_deform_SFP(x, lambda_param = lam)\n",
    "print(f)\n",
    "\n",
    "#visualization\n",
    "m = 100\n",
    "al = -18\n",
    "au = 25\n",
    "XX = np.linspace(al, au, m)\n",
    "f = np.zeros(XX.shape)\n",
    "for i, x in enumerate(XX):\n",
    "   f[i] = get_density_anticommutator_deform_SFP(x, lam)\n",
    "\n",
    "print(sum(f)*(au - al)/m) #just to check that the integral of the density is 1 (approximately)\n",
    "plt.plot(XX, f)\n",
    "plt.grid(True)"
   ]
  },
  {
   "cell_type": "markdown",
   "metadata": {
    "id": "EEsEYzUSqi6p"
   },
   "source": [
    "Numerical check"
   ]
  },
  {
   "cell_type": "code",
   "execution_count": null,
   "metadata": {
    "colab": {
     "base_uri": "https://localhost:8080/",
     "height": 658
    },
    "id": "o-WeIT5tqmPx",
    "outputId": "5e0430ce-d226-4e1c-e7f6-c73e09499084"
   },
   "outputs": [],
   "source": [
    "size = 200\n",
    "lam = 4\n",
    "zero_m = np.zeros((size, size))\n",
    "ones_m = np.eye(size)\n",
    "T = 30\n",
    "EE = np.zeros((size,T))\n",
    "for count in range(T):\n",
    "  A = random_semicircle(size)\n",
    "  B = random_fpoisson(size, lam)\n",
    "  e = la.eigvalsh(A @ B + B @ A + A @ A)\n",
    "  EE[:,count] = e\n",
    "\n",
    "EE = EE.reshape(-1)\n",
    "\n",
    "plt.figure()\n",
    "# Plot histogram with density\n",
    "plt.hist(EE, bins=30, density=True, edgecolor='black', alpha=0.6, label=\"Histogram\")\n",
    "# Plot theoretical density curve\n",
    "plt.plot(XX, f, color='red', label=\"Theoretical Density\")\n",
    "\n",
    "# Add labels and legend\n",
    "plt.title(\"Histogram with Theoretical Density Curve\")\n",
    "plt.xlabel(\"Values\")\n",
    "plt.ylabel(\"Density\")\n",
    "plt.legend()"
   ]
  },
  {
   "cell_type": "markdown",
   "metadata": {
    "id": "fXMNhZAnnNEy"
   },
   "source": [
    "## Example 5c. Another deformed anticommutator."
   ]
  },
  {
   "cell_type": "markdown",
   "metadata": {
    "id": "ltYuN3MNncek"
   },
   "source": [
    "Here we considere the deformed anticommutator $$\n",
    "p(X, Y) = X Y + Y X + X^2,\n",
    "$$\n",
    "when $X$ has the distribution $\\mu_X = \\frac{1}{4}(2 \\delta_{-2} + \\delta_{-1} + \\delta_{+1})$ and $Y$ is the standard semicircle.\n",
    "\n",
    "This is Example 10.4. from Speicher LN on Non-commutative distributions."
   ]
  },
  {
   "cell_type": "code",
   "execution_count": null,
   "metadata": {
    "colab": {
     "base_uri": "https://localhost:8080/",
     "height": 487
    },
    "id": "9XTg4ZHcplal",
    "outputId": "7dce3325-95a8-440b-b17f-5ba83267fd5b"
   },
   "outputs": [],
   "source": [
    "def cauchy_transform_custom(z):\n",
    "    \"\"\"\n",
    "    Computes the Cauchy transform G_mu(z) of the measure\n",
    "    mu_X = (1/4)(2δ_{-2} + δ_{-1} + δ_{+1})\n",
    "    \"\"\"\n",
    "    return (1/4) * (2 / (z + 2) + 1 / (z + 1) + 1 / (z - 1))\n",
    "\n",
    "# Example usage\n",
    "z_values = np.linspace(-3, 3, 500) + 0.1j  # Evaluate on the upper half-plane\n",
    "G_values = np.array([cauchy_transform_custom(z) for z in z_values])\n",
    "\n",
    "# Plot real and imaginary parts\n",
    "plt.figure(figsize=(8, 5))\n",
    "plt.plot(z_values.real, G_values.real, label=\"Re(G_mu(z))\", linestyle='dashed')\n",
    "plt.plot(z_values.real, G_values.imag, label=\"Im(G_mu(z))\")\n",
    "plt.xlabel(\"Re(z)\")\n",
    "plt.ylabel(\"G_mu(z)\")\n",
    "plt.legend()\n",
    "plt.title(\"Cauchy Transform of Given Distribution\")\n",
    "plt.grid()\n",
    "plt.show()\n",
    "\n"
   ]
  },
  {
   "cell_type": "code",
   "execution_count": null,
   "metadata": {
    "colab": {
     "base_uri": "https://localhost:8080/",
     "height": 633
    },
    "id": "hFjx-JD6r8BW",
    "outputId": "ee78066d-d62d-42bc-f8e8-edb01d45892f"
   },
   "outputs": [],
   "source": [
    "def get_density_anticommutator_deform_custom(x, eps = 0.01):\n",
    "  A0 = np.array([[0, 0, 0], [0, 0, -1], [0, -1, 0]])\n",
    "  A1 = np.array([[0, 1, 1/2], [1, 0, 0], [1/2, 0, 0]])\n",
    "  A2 = np.array([[0, 0, 1], [0, 0, 0], [1, 0, 0]])\n",
    "  AA = (A1, A2)\n",
    "  n = A0.shape[0]\n",
    "  z = x + eps * 1j\n",
    "  B = Lambda(z, n) - A0\n",
    "  om = omega_sub(B, (A1, A2), rank = (2,2), H1_name = \"H_matrix_custom\",\n",
    "                   H2_name = \"H_matrix_semicircle\",\n",
    "                   H1_kwargs={\"G_name\":\"cauchy_transform_custom\"},\n",
    "                   H2_kwargs={})\n",
    "  Gxy = G_matrix_custom(om, A1, rank = 2, G_name=\"cauchy_transform_custom\")\n",
    "  f = (-1/np.pi) * Gxy[0,0].imag\n",
    "  return f\n",
    "\n",
    "x = .5\n",
    "f = get_density_anticommutator_deform_custom(x)\n",
    "print(f)\n",
    "\n",
    "#visualization\n",
    "m = 100\n",
    "al = -4\n",
    "au = 11\n",
    "XX = np.linspace(al, au, m)\n",
    "f = np.zeros(XX.shape)\n",
    "for i, x in enumerate(XX):\n",
    "   f[i] = get_density_anticommutator_deform_custom(x)\n",
    "\n",
    "print(sum(f)*(au - al)/m) #just to check that the integral of the density is 1 (approximately)\n",
    "plt.plot(XX, f)\n",
    "plt.grid(True)"
   ]
  },
  {
   "cell_type": "markdown",
   "metadata": {
    "id": "btixTtD8ytCQ"
   },
   "source": [
    "Numerical Check:"
   ]
  },
  {
   "cell_type": "code",
   "execution_count": null,
   "metadata": {
    "colab": {
     "base_uri": "https://localhost:8080/",
     "height": 658
    },
    "id": "wg_ur5obyz_m",
    "outputId": "6ca22e3c-c0ef-48b5-83fa-998ea4f29976"
   },
   "outputs": [],
   "source": [
    "size = 200\n",
    "zero_m = np.zeros((size, size))\n",
    "ones_m = np.eye(size)\n",
    "T = 30\n",
    "EE = np.zeros((size,T))\n",
    "for count in range(T):\n",
    "  # Define the values for the diagonal\n",
    "  diagonal_values = np.concatenate([np.full(100, -2), np.full(50, -1), np.full(50, 1)])\n",
    "  A = np.diag(diagonal_values)\n",
    "  B = random_semicircle(size)\n",
    "  e = la.eigvalsh(A @ B + B @ A + A @ A)\n",
    "  EE[:,count] = e\n",
    "\n",
    "EE = EE.reshape(-1)\n",
    "\n",
    "plt.figure()\n",
    "# Plot histogram with density\n",
    "plt.hist(EE, bins=30, density=True, edgecolor='black', alpha=0.6, label=\"Histogram\")\n",
    "# Plot theoretical density curve\n",
    "plt.plot(XX, f, color='red', label=\"Theoretical Density\")\n",
    "\n",
    "# Add labels and legend\n",
    "plt.title(\"Histogram with Theoretical Density Curve\")\n",
    "plt.xlabel(\"Values\")\n",
    "plt.ylabel(\"Density\")\n",
    "plt.legend()"
   ]
  },
  {
   "cell_type": "markdown",
   "metadata": {
    "id": "ejTDJxkL09la"
   },
   "source": [
    "## Example 5.9 Yet another deformed anticommutator"
   ]
  },
  {
   "cell_type": "markdown",
   "metadata": {
    "id": "LofY_iLw1Vg1"
   },
   "source": [
    "Here as in previous example, $X$ has measure $\\mu_X = \\frac{1}{4}(2 \\delta_{-2} + \\delta_{-1} + \\delta_{+1})$ and $Y$ has measure $\\mu_Y = \\frac{1}{2}(\\delta_1 + \\delta_3)$"
   ]
  },
  {
   "cell_type": "markdown",
   "metadata": {
    "id": "nE1b7nuO8EYM"
   },
   "source": [
    "Calculation using subordination function. (This is somewhat different from the result in Speicher's Lecture notes. Maybe because X and Y switch places?)"
   ]
  },
  {
   "cell_type": "code",
   "execution_count": null,
   "metadata": {
    "colab": {
     "base_uri": "https://localhost:8080/",
     "height": 633
    },
    "id": "XEiRfcCM2vML",
    "outputId": "4802761b-6f2e-480f-da45-98aa0ebc1a49"
   },
   "outputs": [],
   "source": [
    "def get_density_anticommutator_deform_custom2(x, eps = 0.01):\n",
    "  A0 = np.array([[0, 0, 0], [0, 0, -1], [0, -1, 0]])\n",
    "  A1 = np.array([[0, 1, 1/2], [1, 0, 0], [1/2, 0, 0]])\n",
    "  A2 = np.array([[0, 0, 1], [0, 0, 0], [1, 0, 0]])\n",
    "  AA = (A1, A2)\n",
    "  n = A0.shape[0]\n",
    "  z = x + eps * 1j\n",
    "  B = Lambda(z, n) - A0\n",
    "  om = omega_sub(B, (A1, A2), rank = (2,2), H1_name = \"H_matrix_custom\",\n",
    "                   H2_name = \"H_matrix_custom\",\n",
    "                   H1_kwargs={\"G_name\":\"cauchy_transform_discrete\",\n",
    "                              \"G_kwargs\":{\"points\":np.array([-2, -1, 1]), \"weights\": np.array([2/4, 1/4, 1/4])}},\n",
    "                   H2_kwargs={\"G_name\":\"cauchy_transform_discrete\",\n",
    "                              \"G_kwargs\":{\"points\":np.array([1, 3]), \"weights\": np.array([1/2, 1/2])}})\n",
    "  Gxy = G_matrix_custom(om, A1, rank = 2, G_name=\"cauchy_transform_discrete\",\n",
    "                        G_kwargs={\"points\":np.array([-2, -1, 1]), \"weights\": np.array([2/4, 1/4, 1/4])})\n",
    "  f = (-1/np.pi) * Gxy[0,0].imag\n",
    "  return f\n",
    "\n",
    "x = .5\n",
    "f = get_density_anticommutator_deform_custom2(x)\n",
    "print(f)\n",
    "\n",
    "#visualization\n",
    "m = 100\n",
    "al = -10\n",
    "au = 10\n",
    "XX = np.linspace(al, au, m)\n",
    "f = np.zeros(XX.shape)\n",
    "for i, x in enumerate(XX):\n",
    "   f[i] = get_density_anticommutator_deform_custom2(x)\n",
    "\n",
    "print(sum(f)*(au - al)/m) #just to check that the integral of the density is 1 (approximately)\n",
    "plt.plot(XX, f)\n",
    "plt.grid(True)"
   ]
  },
  {
   "cell_type": "markdown",
   "metadata": {
    "id": "UlfoABAN8OSd"
   },
   "source": [
    "Numerical check"
   ]
  },
  {
   "cell_type": "code",
   "execution_count": null,
   "metadata": {
    "colab": {
     "base_uri": "https://localhost:8080/",
     "height": 658
    },
    "id": "bjhQ3VwV8rTY",
    "outputId": "f41d5ad0-5036-40e4-8ca3-9aed3a262567"
   },
   "outputs": [],
   "source": [
    "size = 400\n",
    "zero_m = np.zeros((size, size))\n",
    "ones_m = np.eye(size)\n",
    "T = 30\n",
    "EE = np.zeros((size,T))\n",
    "for count in range(T):\n",
    "  # Define the values for the diagonal\n",
    "  diagonal_values = np.concatenate([np.full(200, -2), np.full(100, -1), np.full(100, 1)])\n",
    "  A = np.diag(diagonal_values)\n",
    "  diagonal_values = np.concatenate([np.full(200, 1), np.full(200, 3)])\n",
    "  B = np.diag(diagonal_values)\n",
    "  Q = random_orthogonal(size)\n",
    "  B = Q @ B @ Q.T\n",
    "\n",
    "  e = la.eigvalsh(A @ B + B @ A + A @ A)\n",
    "  EE[:,count] = e\n",
    "\n",
    "EE = EE.reshape(-1)\n",
    "\n",
    "plt.figure()\n",
    "# Plot histogram with density\n",
    "plt.hist(EE, bins=30, density=True, edgecolor='black', alpha=0.6, label=\"Histogram\")\n",
    "# Plot theoretical density curve\n",
    "plt.plot(XX, f, color='red', label=\"Theoretical Density\")\n",
    "\n",
    "# Add labels and legend\n",
    "plt.title(\"Histogram with Theoretical Density Curve\")\n",
    "plt.xlabel(\"Values\")\n",
    "plt.ylabel(\"Density\")\n",
    "plt.legend()"
   ]
  },
  {
   "cell_type": "markdown",
   "metadata": {
    "id": "C42p_zvoIYmz"
   },
   "source": []
  }
 ],
 "metadata": {
  "colab": {
   "collapsed_sections": [
    "8F8nXeigAWr0",
    "gFYWSBKbJcUS",
    "_QD9NgLWoPn-",
    "V6qMhvDrD_ZO",
    "YyvdmbN8VxXa",
    "1733Oy2AbDUA",
    "4523VFWPaqMz",
    "qbebkjjANfOb",
    "_wAQk0q609Cy",
    "Q9ALv2FEj7wc",
    "mpZNdxHZZ87d",
    "PLaG67Ppn8J1",
    "fXMNhZAnnNEy"
   ],
   "provenance": []
  },
  "kernelspec": {
   "display_name": "Python 3",
   "name": "python3"
  },
  "language_info": {
   "name": "python"
  }
 },
 "nbformat": 4,
 "nbformat_minor": 0
}
